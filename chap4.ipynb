{
 "cells": [
  {
   "cell_type": "markdown",
   "metadata": {},
   "source": [
    "# 4章"
   ]
  },
  {
   "cell_type": "markdown",
   "metadata": {},
   "source": [
    "## 2乗和誤差の計算"
   ]
  },
  {
   "cell_type": "code",
   "execution_count": 2,
   "metadata": {},
   "outputs": [
    {
     "data": {
      "text/plain": [
       "mean_squared_error (generic function with 1 method)"
      ]
     },
     "execution_count": 2,
     "metadata": {},
     "output_type": "execute_result"
    }
   ],
   "source": [
    "function mean_squared_error(output::Matrix, test::Matrix)\n",
    "    return sum((output-t).^2)/2    \n",
    "end"
   ]
  },
  {
   "cell_type": "code",
   "execution_count": 3,
   "metadata": {},
   "outputs": [
    {
     "data": {
      "text/plain": [
       "0.09750000000000003"
      ]
     },
     "execution_count": 3,
     "metadata": {},
     "output_type": "execute_result"
    }
   ],
   "source": [
    "t=[0 0 1 0 0 0 0 0 0 0];\n",
    "y=[0.1 0.05 0.6 0.0 0.05 0.1 0.0 0.1 0.0 0.0];\n",
    "mean_squared_error(y,t)"
   ]
  },
  {
   "cell_type": "code",
   "execution_count": 4,
   "metadata": {},
   "outputs": [
    {
     "data": {
      "text/plain": [
       "0.7224999999999999"
      ]
     },
     "execution_count": 4,
     "metadata": {},
     "output_type": "execute_result"
    }
   ],
   "source": [
    "y=[0.1 0.05 0.1 0.0 0.05 0.1 0.0 0.6 0.5 0.0];\n",
    "mean_squared_error(y, t)"
   ]
  },
  {
   "cell_type": "markdown",
   "metadata": {},
   "source": [
    "## 交差エントロピー誤差の計算"
   ]
  },
  {
   "cell_type": "code",
   "execution_count": 5,
   "metadata": {},
   "outputs": [
    {
     "data": {
      "text/plain": [
       "cross_entropy_error (generic function with 1 method)"
      ]
     },
     "execution_count": 5,
     "metadata": {},
     "output_type": "execute_result"
    }
   ],
   "source": [
    "function cross_entropy_error(y::Matrix, t::Matrix)\n",
    "    delta= 1e-7\n",
    "    return -sum(t.*log.(y.+delta))\n",
    "end"
   ]
  },
  {
   "cell_type": "code",
   "execution_count": 6,
   "metadata": {},
   "outputs": [
    {
     "data": {
      "text/plain": [
       "0.510825457099338"
      ]
     },
     "execution_count": 6,
     "metadata": {},
     "output_type": "execute_result"
    }
   ],
   "source": [
    "t=[0 0 1 0 0 0 0 0 0 0];\n",
    "y=[0.1 0.05 0.6 0.0 0.05 0.1 0.0 0.1 0.0 0.0];\n",
    "cross_entropy_error(y,t)"
   ]
  },
  {
   "cell_type": "code",
   "execution_count": 7,
   "metadata": {},
   "outputs": [
    {
     "data": {
      "text/plain": [
       "2.302584092994546"
      ]
     },
     "execution_count": 7,
     "metadata": {},
     "output_type": "execute_result"
    }
   ],
   "source": [
    "y=[0.1 0.05 0.1 0.0 0.05 0.1 0.0 0.6 0.5 0.0];\n",
    "cross_entropy_error(y,t)"
   ]
  },
  {
   "cell_type": "markdown",
   "metadata": {},
   "source": [
    "## 訓練データの中から指定された個数のデータをランダムに選び出す"
   ]
  },
  {
   "cell_type": "code",
   "execution_count": 8,
   "metadata": {},
   "outputs": [
    {
     "data": {
      "text/plain": [
       "([0.0 0.0 … 0.0 0.0; 0.0 0.0 … 0.0 0.0; … ; 0.0 0.0 … 0.0 0.0; 0.0 0.0 … 0.0 0.0], Matrix[[0 0 … 0 0]; [1 0 … 0 0]; … ; [0 0 … 0 0]; [0 0 … 1 0];;], [0.0 0.0 … 0.0 0.0; 0.0 0.0 … 0.0 0.0; … ; 0.0 0.0 … 0.0 0.0; 0.0 0.0 … 0.0 0.0], Matrix[[0 0 … 0 0]; [0 0 … 0 0]; … ; [0 0 … 0 0]; [0 0 … 0 0];;])"
      ]
     },
     "execution_count": 8,
     "metadata": {},
     "output_type": "execute_result"
    }
   ],
   "source": [
    "include(\"load_mnist.jl\")\n",
    "x_train, t_train, x_test, t_test = load_mnist(normalize=true ,flatten=true, one_hot_label=true)"
   ]
  },
  {
   "cell_type": "code",
   "execution_count": 8,
   "metadata": {},
   "outputs": [
    {
     "name": "stdout",
     "output_type": "stream",
     "text": [
      "(60000, 784)\n",
      "(60000, 1)\n",
      "(10000, 784)\n",
      "(10000, 1)\n"
     ]
    }
   ],
   "source": [
    "println(size(x_train))\n",
    "println(size(t_train))\n",
    "println(size(x_test))\n",
    "println(size(t_test))"
   ]
  },
  {
   "cell_type": "code",
   "execution_count": 9,
   "metadata": {},
   "outputs": [
    {
     "data": {
      "text/plain": [
       "60000×1 Matrix{Matrix}:\n",
       " [0 0 … 0 0]\n",
       " [1 0 … 0 0]\n",
       " [0 0 … 0 0]\n",
       " [0 1 … 0 0]\n",
       " [0 0 … 0 1]\n",
       " [0 0 … 0 0]\n",
       " [0 1 … 0 0]\n",
       " [0 0 … 0 0]\n",
       " [0 1 … 0 0]\n",
       " [0 0 … 0 0]\n",
       " [0 0 … 0 0]\n",
       " [0 0 … 0 0]\n",
       " [0 0 … 0 0]\n",
       " ⋮\n",
       " [0 0 … 0 0]\n",
       " [0 0 … 1 0]\n",
       " [0 0 … 0 1]\n",
       " [0 0 … 0 0]\n",
       " [0 0 … 0 1]\n",
       " [0 0 … 0 0]\n",
       " [0 1 … 0 0]\n",
       " [0 0 … 1 0]\n",
       " [0 0 … 0 0]\n",
       " [0 0 … 0 0]\n",
       " [0 0 … 0 0]\n",
       " [0 0 … 1 0]"
      ]
     },
     "execution_count": 9,
     "metadata": {},
     "output_type": "execute_result"
    }
   ],
   "source": [
    "t_train"
   ]
  },
  {
   "cell_type": "code",
   "execution_count": 9,
   "metadata": {},
   "outputs": [],
   "source": [
    "using StatsBase"
   ]
  },
  {
   "cell_type": "code",
   "execution_count": 10,
   "metadata": {},
   "outputs": [],
   "source": [
    "train_size=size(x_train, 1);\n",
    "batch_size=10;\n",
    "x_batch=sample(1:train_size, batch_size, replace=false);\n",
    "t_batch=sample(1:train_size, batch_size, replace=false);"
   ]
  },
  {
   "cell_type": "code",
   "execution_count": 12,
   "metadata": {},
   "outputs": [
    {
     "data": {
      "text/plain": [
       "cross_entropy_error (generic function with 1 method)"
      ]
     },
     "execution_count": 12,
     "metadata": {},
     "output_type": "execute_result"
    }
   ],
   "source": [
    "function cross_entropy_error(y::Matrix, t::Matrix)\n",
    "    batch_size = size(y, 1)\n",
    "    return -sum(t .* log.(y)) / batch_size\n",
    "end"
   ]
  },
  {
   "cell_type": "markdown",
   "metadata": {},
   "source": [
    "## 数値微分"
   ]
  },
  {
   "cell_type": "code",
   "execution_count": 11,
   "metadata": {},
   "outputs": [],
   "source": [
    "using ForwardDiff\n",
    "using Plots"
   ]
  },
  {
   "cell_type": "code",
   "execution_count": 14,
   "metadata": {},
   "outputs": [
    {
     "data": {
      "text/plain": [
       "function_1 (generic function with 1 method)"
      ]
     },
     "execution_count": 14,
     "metadata": {},
     "output_type": "execute_result"
    }
   ],
   "source": [
    "function function_1(x)\n",
    "    return 0.01 * x^2 + 0.1 * x\n",
    "end"
   ]
  },
  {
   "cell_type": "code",
   "execution_count": 88,
   "metadata": {},
   "outputs": [
    {
     "data": {
      "image/svg+xml": "<?xml version=\"1.0\" encoding=\"utf-8\"?>\n<svg xmlns=\"http://www.w3.org/2000/svg\" xmlns:xlink=\"http://www.w3.org/1999/xlink\" width=\"600\" height=\"400\" viewBox=\"0 0 2400 1600\">\n<defs>\n  <clipPath id=\"clip520\">\n    <rect x=\"0\" y=\"0\" width=\"2400\" height=\"1600\"/>\n  </clipPath>\n</defs>\n<path clip-path=\"url(#clip520)\" d=\"\nM0 1600 L2400 1600 L2400 0 L0 0  Z\n  \" fill=\"#ffffff\" fill-rule=\"evenodd\" fill-opacity=\"1\"/>\n<defs>\n  <clipPath id=\"clip521\">\n    <rect x=\"480\" y=\"0\" width=\"1681\" height=\"1600\"/>\n  </clipPath>\n</defs>\n<path clip-path=\"url(#clip520)\" d=\"\nM175.445 1423.18 L2352.76 1423.18 L2352.76 47.2441 L175.445 47.2441  Z\n  \" fill=\"#ffffff\" fill-rule=\"evenodd\" fill-opacity=\"1\"/>\n<defs>\n  <clipPath id=\"clip522\">\n    <rect x=\"175\" y=\"47\" width=\"2178\" height=\"1377\"/>\n  </clipPath>\n</defs>\n<polyline clip-path=\"url(#clip522)\" style=\"stroke:#000000; stroke-linecap:butt; stroke-linejoin:round; stroke-width:2; stroke-opacity:0.1; fill:none\" points=\"\n  175.445,1423.18 175.445,47.2441 \n  \"/>\n<polyline clip-path=\"url(#clip522)\" style=\"stroke:#000000; stroke-linecap:butt; stroke-linejoin:round; stroke-width:2; stroke-opacity:0.1; fill:none\" points=\"\n  719.773,1423.18 719.773,47.2441 \n  \"/>\n<polyline clip-path=\"url(#clip522)\" style=\"stroke:#000000; stroke-linecap:butt; stroke-linejoin:round; stroke-width:2; stroke-opacity:0.1; fill:none\" points=\"\n  1264.1,1423.18 1264.1,47.2441 \n  \"/>\n<polyline clip-path=\"url(#clip522)\" style=\"stroke:#000000; stroke-linecap:butt; stroke-linejoin:round; stroke-width:2; stroke-opacity:0.1; fill:none\" points=\"\n  1808.43,1423.18 1808.43,47.2441 \n  \"/>\n<polyline clip-path=\"url(#clip522)\" style=\"stroke:#000000; stroke-linecap:butt; stroke-linejoin:round; stroke-width:2; stroke-opacity:0.1; fill:none\" points=\"\n  2352.76,1423.18 2352.76,47.2441 \n  \"/>\n<polyline clip-path=\"url(#clip520)\" style=\"stroke:#000000; stroke-linecap:butt; stroke-linejoin:round; stroke-width:4; stroke-opacity:1; fill:none\" points=\"\n  175.445,1423.18 2352.76,1423.18 \n  \"/>\n<polyline clip-path=\"url(#clip520)\" style=\"stroke:#000000; stroke-linecap:butt; stroke-linejoin:round; stroke-width:4; stroke-opacity:1; fill:none\" points=\"\n  175.445,1423.18 175.445,1404.28 \n  \"/>\n<polyline clip-path=\"url(#clip520)\" style=\"stroke:#000000; stroke-linecap:butt; stroke-linejoin:round; stroke-width:4; stroke-opacity:1; fill:none\" points=\"\n  719.773,1423.18 719.773,1404.28 \n  \"/>\n<polyline clip-path=\"url(#clip520)\" style=\"stroke:#000000; stroke-linecap:butt; stroke-linejoin:round; stroke-width:4; stroke-opacity:1; fill:none\" points=\"\n  1264.1,1423.18 1264.1,1404.28 \n  \"/>\n<polyline clip-path=\"url(#clip520)\" style=\"stroke:#000000; stroke-linecap:butt; stroke-linejoin:round; stroke-width:4; stroke-opacity:1; fill:none\" points=\"\n  1808.43,1423.18 1808.43,1404.28 \n  \"/>\n<polyline clip-path=\"url(#clip520)\" style=\"stroke:#000000; stroke-linecap:butt; stroke-linejoin:round; stroke-width:4; stroke-opacity:1; fill:none\" points=\"\n  2352.76,1423.18 2352.76,1404.28 \n  \"/>\n<path clip-path=\"url(#clip520)\" d=\"M175.445 1454.1 Q171.834 1454.1 170.005 1457.66 Q168.2 1461.2 168.2 1468.33 Q168.2 1475.44 170.005 1479.01 Q171.834 1482.55 175.445 1482.55 Q179.079 1482.55 180.885 1479.01 Q182.714 1475.44 182.714 1468.33 Q182.714 1461.2 180.885 1457.66 Q179.079 1454.1 175.445 1454.1 M175.445 1450.39 Q181.255 1450.39 184.311 1455 Q187.39 1459.58 187.39 1468.33 Q187.39 1477.06 184.311 1481.67 Q181.255 1486.25 175.445 1486.25 Q169.635 1486.25 166.556 1481.67 Q163.501 1477.06 163.501 1468.33 Q163.501 1459.58 166.556 1455 Q169.635 1450.39 175.445 1450.39 Z\" fill=\"#000000\" fill-rule=\"evenodd\" fill-opacity=\"1\" /><path clip-path=\"url(#clip520)\" d=\"M710.051 1451.02 L728.407 1451.02 L728.407 1454.96 L714.333 1454.96 L714.333 1463.43 Q715.352 1463.08 716.37 1462.92 Q717.389 1462.73 718.407 1462.73 Q724.194 1462.73 727.574 1465.9 Q730.953 1469.08 730.953 1474.49 Q730.953 1480.07 727.481 1483.17 Q724.009 1486.25 717.69 1486.25 Q715.514 1486.25 713.245 1485.88 Q711 1485.51 708.592 1484.77 L708.592 1480.07 Q710.676 1481.2 712.898 1481.76 Q715.12 1482.32 717.597 1482.32 Q721.602 1482.32 723.94 1480.21 Q726.277 1478.1 726.277 1474.49 Q726.277 1470.88 723.94 1468.77 Q721.602 1466.67 717.597 1466.67 Q715.722 1466.67 713.847 1467.08 Q711.995 1467.5 710.051 1468.38 L710.051 1451.02 Z\" fill=\"#000000\" fill-rule=\"evenodd\" fill-opacity=\"1\" /><path clip-path=\"url(#clip520)\" d=\"M1238.79 1481.64 L1246.43 1481.64 L1246.43 1455.28 L1238.12 1456.95 L1238.12 1452.69 L1246.38 1451.02 L1251.06 1451.02 L1251.06 1481.64 L1258.7 1481.64 L1258.7 1485.58 L1238.79 1485.58 L1238.79 1481.64 Z\" fill=\"#000000\" fill-rule=\"evenodd\" fill-opacity=\"1\" /><path clip-path=\"url(#clip520)\" d=\"M1278.14 1454.1 Q1274.53 1454.1 1272.7 1457.66 Q1270.89 1461.2 1270.89 1468.33 Q1270.89 1475.44 1272.7 1479.01 Q1274.53 1482.55 1278.14 1482.55 Q1281.77 1482.55 1283.58 1479.01 Q1285.41 1475.44 1285.41 1468.33 Q1285.41 1461.2 1283.58 1457.66 Q1281.77 1454.1 1278.14 1454.1 M1278.14 1450.39 Q1283.95 1450.39 1287.01 1455 Q1290.08 1459.58 1290.08 1468.33 Q1290.08 1477.06 1287.01 1481.67 Q1283.95 1486.25 1278.14 1486.25 Q1272.33 1486.25 1269.25 1481.67 Q1266.2 1477.06 1266.2 1468.33 Q1266.2 1459.58 1269.25 1455 Q1272.33 1450.39 1278.14 1450.39 Z\" fill=\"#000000\" fill-rule=\"evenodd\" fill-opacity=\"1\" /><path clip-path=\"url(#clip520)\" d=\"M1783.61 1481.64 L1791.25 1481.64 L1791.25 1455.28 L1782.94 1456.95 L1782.94 1452.69 L1791.21 1451.02 L1795.88 1451.02 L1795.88 1481.64 L1803.52 1481.64 L1803.52 1485.58 L1783.61 1485.58 L1783.61 1481.64 Z\" fill=\"#000000\" fill-rule=\"evenodd\" fill-opacity=\"1\" /><path clip-path=\"url(#clip520)\" d=\"M1813.01 1451.02 L1831.37 1451.02 L1831.37 1454.96 L1817.29 1454.96 L1817.29 1463.43 Q1818.31 1463.08 1819.33 1462.92 Q1820.35 1462.73 1821.37 1462.73 Q1827.15 1462.73 1830.53 1465.9 Q1833.91 1469.08 1833.91 1474.49 Q1833.91 1480.07 1830.44 1483.17 Q1826.97 1486.25 1820.65 1486.25 Q1818.47 1486.25 1816.21 1485.88 Q1813.96 1485.51 1811.55 1484.77 L1811.55 1480.07 Q1813.64 1481.2 1815.86 1481.76 Q1818.08 1482.32 1820.56 1482.32 Q1824.56 1482.32 1826.9 1480.21 Q1829.24 1478.1 1829.24 1474.49 Q1829.24 1470.88 1826.9 1468.77 Q1824.56 1466.67 1820.56 1466.67 Q1818.68 1466.67 1816.81 1467.08 Q1814.96 1467.5 1813.01 1468.38 L1813.01 1451.02 Z\" fill=\"#000000\" fill-rule=\"evenodd\" fill-opacity=\"1\" /><path clip-path=\"url(#clip520)\" d=\"M2331.53 1481.64 L2347.85 1481.64 L2347.85 1485.58 L2325.9 1485.58 L2325.9 1481.64 Q2328.57 1478.89 2333.15 1474.26 Q2337.76 1469.61 2338.94 1468.27 Q2341.18 1465.74 2342.06 1464.01 Q2342.96 1462.25 2342.96 1460.56 Q2342.96 1457.8 2341.02 1456.07 Q2339.1 1454.33 2336 1454.33 Q2333.8 1454.33 2331.34 1455.09 Q2328.91 1455.86 2326.14 1457.41 L2326.14 1452.69 Q2328.96 1451.55 2331.41 1450.97 Q2333.87 1450.39 2335.9 1450.39 Q2341.27 1450.39 2344.47 1453.08 Q2347.66 1455.77 2347.66 1460.26 Q2347.66 1462.39 2346.85 1464.31 Q2346.07 1466.2 2343.96 1468.8 Q2343.38 1469.47 2340.28 1472.69 Q2337.18 1475.88 2331.53 1481.64 Z\" fill=\"#000000\" fill-rule=\"evenodd\" fill-opacity=\"1\" /><path clip-path=\"url(#clip520)\" d=\"M2367.66 1454.1 Q2364.05 1454.1 2362.22 1457.66 Q2360.42 1461.2 2360.42 1468.33 Q2360.42 1475.44 2362.22 1479.01 Q2364.05 1482.55 2367.66 1482.55 Q2371.3 1482.55 2373.1 1479.01 Q2374.93 1475.44 2374.93 1468.33 Q2374.93 1461.2 2373.1 1457.66 Q2371.3 1454.1 2367.66 1454.1 M2367.66 1450.39 Q2373.47 1450.39 2376.53 1455 Q2379.61 1459.58 2379.61 1468.33 Q2379.61 1477.06 2376.53 1481.67 Q2373.47 1486.25 2367.66 1486.25 Q2361.85 1486.25 2358.77 1481.67 Q2355.72 1477.06 2355.72 1468.33 Q2355.72 1459.58 2358.77 1455 Q2361.85 1450.39 2367.66 1450.39 Z\" fill=\"#000000\" fill-rule=\"evenodd\" fill-opacity=\"1\" /><path clip-path=\"url(#clip520)\" d=\"M1280.72 1532.4 L1267.82 1549.74 L1281.38 1568.04 L1274.48 1568.04 L1264.1 1554.04 L1253.72 1568.04 L1246.82 1568.04 L1260.66 1549.39 L1248 1532.4 L1254.9 1532.4 L1264.36 1545.1 L1273.81 1532.4 L1280.72 1532.4 Z\" fill=\"#000000\" fill-rule=\"evenodd\" fill-opacity=\"1\" /><polyline clip-path=\"url(#clip522)\" style=\"stroke:#000000; stroke-linecap:butt; stroke-linejoin:round; stroke-width:2; stroke-opacity:0.1; fill:none\" points=\"\n  175.445,1384.24 2352.76,1384.24 \n  \"/>\n<polyline clip-path=\"url(#clip522)\" style=\"stroke:#000000; stroke-linecap:butt; stroke-linejoin:round; stroke-width:2; stroke-opacity:0.1; fill:none\" points=\"\n  175.445,1167.9 2352.76,1167.9 \n  \"/>\n<polyline clip-path=\"url(#clip522)\" style=\"stroke:#000000; stroke-linecap:butt; stroke-linejoin:round; stroke-width:2; stroke-opacity:0.1; fill:none\" points=\"\n  175.445,951.554 2352.76,951.554 \n  \"/>\n<polyline clip-path=\"url(#clip522)\" style=\"stroke:#000000; stroke-linecap:butt; stroke-linejoin:round; stroke-width:2; stroke-opacity:0.1; fill:none\" points=\"\n  175.445,735.212 2352.76,735.212 \n  \"/>\n<polyline clip-path=\"url(#clip522)\" style=\"stroke:#000000; stroke-linecap:butt; stroke-linejoin:round; stroke-width:2; stroke-opacity:0.1; fill:none\" points=\"\n  175.445,518.87 2352.76,518.87 \n  \"/>\n<polyline clip-path=\"url(#clip522)\" style=\"stroke:#000000; stroke-linecap:butt; stroke-linejoin:round; stroke-width:2; stroke-opacity:0.1; fill:none\" points=\"\n  175.445,302.528 2352.76,302.528 \n  \"/>\n<polyline clip-path=\"url(#clip522)\" style=\"stroke:#000000; stroke-linecap:butt; stroke-linejoin:round; stroke-width:2; stroke-opacity:0.1; fill:none\" points=\"\n  175.445,86.1857 2352.76,86.1857 \n  \"/>\n<polyline clip-path=\"url(#clip520)\" style=\"stroke:#000000; stroke-linecap:butt; stroke-linejoin:round; stroke-width:4; stroke-opacity:1; fill:none\" points=\"\n  175.445,1423.18 175.445,47.2441 \n  \"/>\n<polyline clip-path=\"url(#clip520)\" style=\"stroke:#000000; stroke-linecap:butt; stroke-linejoin:round; stroke-width:4; stroke-opacity:1; fill:none\" points=\"\n  175.445,1384.24 194.343,1384.24 \n  \"/>\n<polyline clip-path=\"url(#clip520)\" style=\"stroke:#000000; stroke-linecap:butt; stroke-linejoin:round; stroke-width:4; stroke-opacity:1; fill:none\" points=\"\n  175.445,1167.9 194.343,1167.9 \n  \"/>\n<polyline clip-path=\"url(#clip520)\" style=\"stroke:#000000; stroke-linecap:butt; stroke-linejoin:round; stroke-width:4; stroke-opacity:1; fill:none\" points=\"\n  175.445,951.554 194.343,951.554 \n  \"/>\n<polyline clip-path=\"url(#clip520)\" style=\"stroke:#000000; stroke-linecap:butt; stroke-linejoin:round; stroke-width:4; stroke-opacity:1; fill:none\" points=\"\n  175.445,735.212 194.343,735.212 \n  \"/>\n<polyline clip-path=\"url(#clip520)\" style=\"stroke:#000000; stroke-linecap:butt; stroke-linejoin:round; stroke-width:4; stroke-opacity:1; fill:none\" points=\"\n  175.445,518.87 194.343,518.87 \n  \"/>\n<polyline clip-path=\"url(#clip520)\" style=\"stroke:#000000; stroke-linecap:butt; stroke-linejoin:round; stroke-width:4; stroke-opacity:1; fill:none\" points=\"\n  175.445,302.528 194.343,302.528 \n  \"/>\n<polyline clip-path=\"url(#clip520)\" style=\"stroke:#000000; stroke-linecap:butt; stroke-linejoin:round; stroke-width:4; stroke-opacity:1; fill:none\" points=\"\n  175.445,86.1857 194.343,86.1857 \n  \"/>\n<path clip-path=\"url(#clip520)\" d=\"M127.501 1370.04 Q123.89 1370.04 122.061 1373.6 Q120.255 1377.14 120.255 1384.27 Q120.255 1391.38 122.061 1394.94 Q123.89 1398.49 127.501 1398.49 Q131.135 1398.49 132.941 1394.94 Q134.769 1391.38 134.769 1384.27 Q134.769 1377.14 132.941 1373.6 Q131.135 1370.04 127.501 1370.04 M127.501 1366.33 Q133.311 1366.33 136.367 1370.94 Q139.445 1375.52 139.445 1384.27 Q139.445 1393 136.367 1397.61 Q133.311 1402.19 127.501 1402.19 Q121.691 1402.19 118.612 1397.61 Q115.556 1393 115.556 1384.27 Q115.556 1375.52 118.612 1370.94 Q121.691 1366.33 127.501 1366.33 Z\" fill=\"#000000\" fill-rule=\"evenodd\" fill-opacity=\"1\" /><path clip-path=\"url(#clip520)\" d=\"M119.538 1181.24 L127.177 1181.24 L127.177 1154.88 L118.867 1156.54 L118.867 1152.28 L127.13 1150.62 L131.806 1150.62 L131.806 1181.24 L139.445 1181.24 L139.445 1185.18 L119.538 1185.18 L119.538 1181.24 Z\" fill=\"#000000\" fill-rule=\"evenodd\" fill-opacity=\"1\" /><path clip-path=\"url(#clip520)\" d=\"M123.126 964.899 L139.445 964.899 L139.445 968.834 L117.501 968.834 L117.501 964.899 Q120.163 962.144 124.746 957.515 Q129.353 952.862 130.533 951.519 Q132.779 948.996 133.658 947.26 Q134.561 945.501 134.561 943.811 Q134.561 941.056 132.617 939.32 Q130.695 937.584 127.593 937.584 Q125.394 937.584 122.941 938.348 Q120.51 939.112 117.732 940.663 L117.732 935.941 Q120.556 934.806 123.01 934.228 Q125.464 933.649 127.501 933.649 Q132.871 933.649 136.066 936.334 Q139.26 939.019 139.26 943.51 Q139.26 945.64 138.45 947.561 Q137.663 949.459 135.556 952.052 Q134.978 952.723 131.876 955.941 Q128.774 959.135 123.126 964.899 Z\" fill=\"#000000\" fill-rule=\"evenodd\" fill-opacity=\"1\" /><path clip-path=\"url(#clip520)\" d=\"M132.316 733.858 Q135.672 734.575 137.547 736.844 Q139.445 739.112 139.445 742.446 Q139.445 747.561 135.927 750.362 Q132.408 753.163 125.927 753.163 Q123.751 753.163 121.436 752.723 Q119.144 752.307 116.691 751.45 L116.691 746.936 Q118.635 748.071 120.95 748.649 Q123.265 749.228 125.788 749.228 Q130.186 749.228 132.478 747.492 Q134.792 745.756 134.792 742.446 Q134.792 739.39 132.64 737.677 Q130.51 735.941 126.691 735.941 L122.663 735.941 L122.663 732.099 L126.876 732.099 Q130.325 732.099 132.154 730.733 Q133.982 729.344 133.982 726.751 Q133.982 724.089 132.084 722.677 Q130.209 721.242 126.691 721.242 Q124.769 721.242 122.57 721.659 Q120.371 722.075 117.732 722.955 L117.732 718.788 Q120.394 718.048 122.709 717.677 Q125.047 717.307 127.107 717.307 Q132.431 717.307 135.533 719.738 Q138.635 722.145 138.635 726.265 Q138.635 729.136 136.992 731.126 Q135.348 733.094 132.316 733.858 Z\" fill=\"#000000\" fill-rule=\"evenodd\" fill-opacity=\"1\" /><path clip-path=\"url(#clip520)\" d=\"M129.862 505.664 L118.056 524.113 L129.862 524.113 L129.862 505.664 M128.635 501.59 L134.515 501.59 L134.515 524.113 L139.445 524.113 L139.445 528.002 L134.515 528.002 L134.515 536.15 L129.862 536.15 L129.862 528.002 L114.26 528.002 L114.26 523.488 L128.635 501.59 Z\" fill=\"#000000\" fill-rule=\"evenodd\" fill-opacity=\"1\" /><path clip-path=\"url(#clip520)\" d=\"M118.543 285.248 L136.899 285.248 L136.899 289.183 L122.825 289.183 L122.825 297.655 Q123.843 297.308 124.862 297.146 Q125.88 296.961 126.899 296.961 Q132.686 296.961 136.066 300.132 Q139.445 303.303 139.445 308.72 Q139.445 314.299 135.973 317.4 Q132.501 320.479 126.181 320.479 Q124.005 320.479 121.737 320.109 Q119.492 319.738 117.084 318.998 L117.084 314.299 Q119.168 315.433 121.39 315.988 Q123.612 316.544 126.089 316.544 Q130.093 316.544 132.431 314.437 Q134.769 312.331 134.769 308.72 Q134.769 305.109 132.431 303.002 Q130.093 300.896 126.089 300.896 Q124.214 300.896 122.339 301.312 Q120.487 301.729 118.543 302.609 L118.543 285.248 Z\" fill=\"#000000\" fill-rule=\"evenodd\" fill-opacity=\"1\" /><path clip-path=\"url(#clip520)\" d=\"M127.917 84.3223 Q124.769 84.3223 122.918 86.475 Q121.089 88.6278 121.089 92.3778 Q121.089 96.1046 122.918 98.2805 Q124.769 100.433 127.917 100.433 Q131.066 100.433 132.894 98.2805 Q134.746 96.1046 134.746 92.3778 Q134.746 88.6278 132.894 86.475 Q131.066 84.3223 127.917 84.3223 M137.2 69.6696 L137.2 73.9288 Q135.441 73.0955 133.635 72.6557 Q131.853 72.2158 130.093 72.2158 Q125.464 72.2158 123.01 75.3408 Q120.58 78.4658 120.232 84.7852 Q121.598 82.7713 123.658 81.7065 Q125.718 80.6186 128.195 80.6186 Q133.404 80.6186 136.413 83.7899 Q139.445 86.938 139.445 92.3778 Q139.445 97.7018 136.297 100.919 Q133.149 104.137 127.917 104.137 Q121.922 104.137 118.751 99.5537 Q115.58 94.9472 115.58 86.2204 Q115.58 78.026 119.468 73.1649 Q123.357 68.2807 129.908 68.2807 Q131.667 68.2807 133.45 68.6279 Q135.255 68.9751 137.2 69.6696 Z\" fill=\"#000000\" fill-rule=\"evenodd\" fill-opacity=\"1\" /><path clip-path=\"url(#clip520)\" d=\"M14.479 765.163 L19.3487 765.163 L19.3487 770.764 Q19.3487 773.915 20.6219 775.157 Q21.895 776.366 25.2052 776.366 L28.3562 776.366 L28.3562 766.722 L32.9077 766.722 L32.9077 776.366 L64.0042 776.366 L64.0042 782.255 L32.9077 782.255 L32.9077 787.856 L28.3562 787.856 L28.3562 782.255 L25.8736 782.255 Q19.9216 782.255 17.2162 779.485 Q14.479 776.716 14.479 770.701 L14.479 765.163 Z\" fill=\"#000000\" fill-rule=\"evenodd\" fill-opacity=\"1\" /><path clip-path=\"url(#clip520)\" d=\"M14.5426 746.193 Q21.8632 750.458 29.0246 752.527 Q36.186 754.596 43.5384 754.596 Q50.8908 754.596 58.1159 752.527 Q65.3091 750.426 72.5979 746.193 L72.5979 751.285 Q65.1182 756.06 57.8931 758.447 Q50.668 760.802 43.5384 760.802 Q36.4406 760.802 29.2474 758.447 Q22.0542 756.091 14.5426 751.285 L14.5426 746.193 Z\" fill=\"#000000\" fill-rule=\"evenodd\" fill-opacity=\"1\" /><path clip-path=\"url(#clip520)\" d=\"M28.3562 705.198 L45.7028 718.088 L64.0042 704.529 L64.0042 711.436 L49.9996 721.812 L64.0042 732.188 L64.0042 739.095 L45.3526 725.25 L28.3562 737.917 L28.3562 731.011 L41.0558 721.558 L28.3562 712.104 L28.3562 705.198 Z\" fill=\"#000000\" fill-rule=\"evenodd\" fill-opacity=\"1\" /><path clip-path=\"url(#clip520)\" d=\"M14.5426 697.177 L14.5426 692.084 Q22.0542 687.31 29.2474 684.955 Q36.4406 682.568 43.5384 682.568 Q50.668 682.568 57.8931 684.955 Q65.1182 687.31 72.5979 692.084 L72.5979 697.177 Q65.3091 692.944 58.1159 690.875 Q50.8908 688.774 43.5384 688.774 Q36.186 688.774 29.0246 690.875 Q21.8632 692.944 14.5426 697.177 Z\" fill=\"#000000\" fill-rule=\"evenodd\" fill-opacity=\"1\" /><polyline clip-path=\"url(#clip522)\" style=\"stroke:#009af9; stroke-linecap:butt; stroke-linejoin:round; stroke-width:4; stroke-opacity:1; fill:none\" points=\"\n  175.445,1384.24 290.041,1359.07 404.636,1329.1 519.231,1294.35 633.826,1254.79 748.422,1210.45 863.017,1161.3 977.612,1107.37 1092.21,1048.64 1206.8,985.114 \n  1321.4,916.796 1435.99,843.683 1550.59,765.776 1665.18,683.074 1779.78,595.578 1894.37,503.288 2008.97,406.204 2123.57,304.326 2238.16,197.653 2352.76,86.1857 \n  \n  \"/>\n<path clip-path=\"url(#clip520)\" d=\"\nM1677.66 196.789 L2280.18 196.789 L2280.18 93.1086 L1677.66 93.1086  Z\n  \" fill=\"#ffffff\" fill-rule=\"evenodd\" fill-opacity=\"1\"/>\n<polyline clip-path=\"url(#clip520)\" style=\"stroke:#000000; stroke-linecap:butt; stroke-linejoin:round; stroke-width:4; stroke-opacity:1; fill:none\" points=\"\n  1677.66,196.789 2280.18,196.789 2280.18,93.1086 1677.66,93.1086 1677.66,196.789 \n  \"/>\n<polyline clip-path=\"url(#clip520)\" style=\"stroke:#009af9; stroke-linecap:butt; stroke-linejoin:round; stroke-width:4; stroke-opacity:1; fill:none\" points=\"\n  1701.85,144.949 1847,144.949 \n  \"/>\n<path clip-path=\"url(#clip520)\" d=\"M1885.04 164.636 Q1883.23 169.266 1881.52 170.678 Q1879.81 172.09 1876.93 172.09 L1873.53 172.09 L1873.53 168.525 L1876.03 168.525 Q1877.79 168.525 1878.76 167.692 Q1879.74 166.858 1880.92 163.756 L1881.68 161.812 L1871.19 136.303 L1875.71 136.303 L1883.81 156.581 L1891.91 136.303 L1896.43 136.303 L1885.04 164.636 Z\" fill=\"#000000\" fill-rule=\"evenodd\" fill-opacity=\"1\" /><path clip-path=\"url(#clip520)\" d=\"M1902.86 140.701 L1932.54 140.701 L1932.54 144.59 L1902.86 144.59 L1902.86 140.701 M1902.86 150.145 L1932.54 150.145 L1932.54 154.081 L1902.86 154.081 L1902.86 150.145 Z\" fill=\"#000000\" fill-rule=\"evenodd\" fill-opacity=\"1\" /><path clip-path=\"url(#clip520)\" d=\"M1952.63 130.747 Q1949.02 130.747 1947.19 134.312 Q1945.38 137.854 1945.38 144.983 Q1945.38 152.09 1947.19 155.655 Q1949.02 159.196 1952.63 159.196 Q1956.26 159.196 1958.07 155.655 Q1959.9 152.09 1959.9 144.983 Q1959.9 137.854 1958.07 134.312 Q1956.26 130.747 1952.63 130.747 M1952.63 127.044 Q1958.44 127.044 1961.49 131.65 Q1964.57 136.233 1964.57 144.983 Q1964.57 153.71 1961.49 158.317 Q1958.44 162.9 1952.63 162.9 Q1946.82 162.9 1943.74 158.317 Q1940.68 153.71 1940.68 144.983 Q1940.68 136.233 1943.74 131.65 Q1946.82 127.044 1952.63 127.044 Z\" fill=\"#000000\" fill-rule=\"evenodd\" fill-opacity=\"1\" /><path clip-path=\"url(#clip520)\" d=\"M1972.79 156.349 L1977.68 156.349 L1977.68 162.229 L1972.79 162.229 L1972.79 156.349 Z\" fill=\"#000000\" fill-rule=\"evenodd\" fill-opacity=\"1\" /><path clip-path=\"url(#clip520)\" d=\"M1997.86 130.747 Q1994.25 130.747 1992.42 134.312 Q1990.61 137.854 1990.61 144.983 Q1990.61 152.09 1992.42 155.655 Q1994.25 159.196 1997.86 159.196 Q2001.49 159.196 2003.3 155.655 Q2005.13 152.09 2005.13 144.983 Q2005.13 137.854 2003.3 134.312 Q2001.49 130.747 1997.86 130.747 M1997.86 127.044 Q2003.67 127.044 2006.73 131.65 Q2009.8 136.233 2009.8 144.983 Q2009.8 153.71 2006.73 158.317 Q2003.67 162.9 1997.86 162.9 Q1992.05 162.9 1988.97 158.317 Q1985.92 153.71 1985.92 144.983 Q1985.92 136.233 1988.97 131.65 Q1992.05 127.044 1997.86 127.044 Z\" fill=\"#000000\" fill-rule=\"evenodd\" fill-opacity=\"1\" /><path clip-path=\"url(#clip520)\" d=\"M2018.83 158.293 L2026.47 158.293 L2026.47 131.928 L2018.16 133.595 L2018.16 129.335 L2026.42 127.669 L2031.1 127.669 L2031.1 158.293 L2038.74 158.293 L2038.74 162.229 L2018.83 162.229 L2018.83 158.293 Z\" fill=\"#000000\" fill-rule=\"evenodd\" fill-opacity=\"1\" /><path clip-path=\"url(#clip520)\" d=\"M2069.13 136.303 L2059.76 148.919 L2069.62 162.229 L2064.6 162.229 L2057.05 152.043 L2049.5 162.229 L2044.48 162.229 L2054.55 148.664 L2045.34 136.303 L2050.36 136.303 L2057.23 145.539 L2064.11 136.303 L2069.13 136.303 Z\" fill=\"#000000\" fill-rule=\"evenodd\" fill-opacity=\"1\" /><path clip-path=\"url(#clip520)\" d=\"M2077.37 144.127 L2087.19 144.127 L2087.19 146.766 L2073.35 146.766 L2073.35 144.219 Q2074.13 143.502 2075.59 142.206 Q2083.55 135.145 2083.55 132.97 Q2083.55 131.442 2082.35 130.516 Q2081.15 129.567 2079.18 129.567 Q2077.98 129.567 2076.56 129.983 Q2075.15 130.377 2073.48 131.187 L2073.48 128.34 Q2075.27 127.692 2076.8 127.368 Q2078.35 127.044 2079.67 127.044 Q2083.02 127.044 2085.04 128.571 Q2087.05 130.099 2087.05 132.599 Q2087.05 135.817 2079.39 142.391 Q2078.09 143.502 2077.37 144.127 Z\" fill=\"#000000\" fill-rule=\"evenodd\" fill-opacity=\"1\" /><path clip-path=\"url(#clip520)\" d=\"M2111.98 132.507 L2111.98 145.4 L2124.87 145.4 L2124.87 149.335 L2111.98 149.335 L2111.98 162.229 L2108.09 162.229 L2108.09 149.335 L2095.2 149.335 L2095.2 145.4 L2108.09 145.4 L2108.09 132.507 L2111.98 132.507 Z\" fill=\"#000000\" fill-rule=\"evenodd\" fill-opacity=\"1\" /><path clip-path=\"url(#clip520)\" d=\"M2144.97 130.747 Q2141.35 130.747 2139.53 134.312 Q2137.72 137.854 2137.72 144.983 Q2137.72 152.09 2139.53 155.655 Q2141.35 159.196 2144.97 159.196 Q2148.6 159.196 2150.41 155.655 Q2152.23 152.09 2152.23 144.983 Q2152.23 137.854 2150.41 134.312 Q2148.6 130.747 2144.97 130.747 M2144.97 127.044 Q2150.78 127.044 2153.83 131.65 Q2156.91 136.233 2156.91 144.983 Q2156.91 153.71 2153.83 158.317 Q2150.78 162.9 2144.97 162.9 Q2139.16 162.9 2136.08 158.317 Q2133.02 153.71 2133.02 144.983 Q2133.02 136.233 2136.08 131.65 Q2139.16 127.044 2144.97 127.044 Z\" fill=\"#000000\" fill-rule=\"evenodd\" fill-opacity=\"1\" /><path clip-path=\"url(#clip520)\" d=\"M2165.13 156.349 L2170.01 156.349 L2170.01 162.229 L2165.13 162.229 L2165.13 156.349 Z\" fill=\"#000000\" fill-rule=\"evenodd\" fill-opacity=\"1\" /><path clip-path=\"url(#clip520)\" d=\"M2181.01 158.293 L2188.65 158.293 L2188.65 131.928 L2180.34 133.595 L2180.34 129.335 L2188.6 127.669 L2193.28 127.669 L2193.28 158.293 L2200.91 158.293 L2200.91 162.229 L2181.01 162.229 L2181.01 158.293 Z\" fill=\"#000000\" fill-rule=\"evenodd\" fill-opacity=\"1\" /><path clip-path=\"url(#clip520)\" d=\"M2231.31 136.303 L2221.93 148.919 L2231.79 162.229 L2226.77 162.229 L2219.22 152.043 L2211.68 162.229 L2206.66 162.229 L2216.72 148.664 L2207.51 136.303 L2212.54 136.303 L2219.41 145.539 L2226.28 136.303 L2231.31 136.303 Z\" fill=\"#000000\" fill-rule=\"evenodd\" fill-opacity=\"1\" /></svg>\n"
     },
     "execution_count": 88,
     "metadata": {},
     "output_type": "execute_result"
    }
   ],
   "source": [
    "x=range(0,20, length= 20);\n",
    "y=function_1.(x);\n",
    "plot(\n",
    "    x, y,\n",
    "    xlims=(0,20),\n",
    "    label=\"y=0.01x²+0.1x\",\n",
    "    xlabel=\"x\",\n",
    "    ylabel=\"f(x)\"\n",
    ")"
   ]
  },
  {
   "cell_type": "code",
   "execution_count": 89,
   "metadata": {},
   "outputs": [
    {
     "name": "stdout",
     "output_type": "stream",
     "text": [
      "x = 5: 0.2\n",
      "x = 10: 0.30000000000000004\n"
     ]
    }
   ],
   "source": [
    "println(\"x = 5: \", ForwardDiff.derivative(function_1, 5))\n",
    "println(\"x = 10: \", ForwardDiff.derivative(function_1, 10))"
   ]
  },
  {
   "cell_type": "code",
   "execution_count": 90,
   "metadata": {},
   "outputs": [
    {
     "data": {
      "image/svg+xml": "<?xml version=\"1.0\" encoding=\"utf-8\"?>\n<svg xmlns=\"http://www.w3.org/2000/svg\" xmlns:xlink=\"http://www.w3.org/1999/xlink\" width=\"600\" height=\"400\" viewBox=\"0 0 2400 1600\">\n<defs>\n  <clipPath id=\"clip560\">\n    <rect x=\"0\" y=\"0\" width=\"2400\" height=\"1600\"/>\n  </clipPath>\n</defs>\n<path clip-path=\"url(#clip560)\" d=\"\nM0 1600 L2400 1600 L2400 0 L0 0  Z\n  \" fill=\"#ffffff\" fill-rule=\"evenodd\" fill-opacity=\"1\"/>\n<defs>\n  <clipPath id=\"clip561\">\n    <rect x=\"480\" y=\"0\" width=\"1681\" height=\"1600\"/>\n  </clipPath>\n</defs>\n<path clip-path=\"url(#clip560)\" d=\"\nM112.177 1486.45 L2352.76 1486.45 L2352.76 47.2441 L112.177 47.2441  Z\n  \" fill=\"#ffffff\" fill-rule=\"evenodd\" fill-opacity=\"1\"/>\n<defs>\n  <clipPath id=\"clip562\">\n    <rect x=\"112\" y=\"47\" width=\"2242\" height=\"1440\"/>\n  </clipPath>\n</defs>\n<polyline clip-path=\"url(#clip562)\" style=\"stroke:#000000; stroke-linecap:butt; stroke-linejoin:round; stroke-width:2; stroke-opacity:0.1; fill:none\" points=\"\n  175.59,1486.45 175.59,47.2441 \n  \"/>\n<polyline clip-path=\"url(#clip562)\" style=\"stroke:#000000; stroke-linecap:butt; stroke-linejoin:round; stroke-width:2; stroke-opacity:0.1; fill:none\" points=\"\n  704.028,1486.45 704.028,47.2441 \n  \"/>\n<polyline clip-path=\"url(#clip562)\" style=\"stroke:#000000; stroke-linecap:butt; stroke-linejoin:round; stroke-width:2; stroke-opacity:0.1; fill:none\" points=\"\n  1232.47,1486.45 1232.47,47.2441 \n  \"/>\n<polyline clip-path=\"url(#clip562)\" style=\"stroke:#000000; stroke-linecap:butt; stroke-linejoin:round; stroke-width:2; stroke-opacity:0.1; fill:none\" points=\"\n  1760.9,1486.45 1760.9,47.2441 \n  \"/>\n<polyline clip-path=\"url(#clip562)\" style=\"stroke:#000000; stroke-linecap:butt; stroke-linejoin:round; stroke-width:2; stroke-opacity:0.1; fill:none\" points=\"\n  2289.34,1486.45 2289.34,47.2441 \n  \"/>\n<polyline clip-path=\"url(#clip560)\" style=\"stroke:#000000; stroke-linecap:butt; stroke-linejoin:round; stroke-width:4; stroke-opacity:1; fill:none\" points=\"\n  112.177,1486.45 2352.76,1486.45 \n  \"/>\n<polyline clip-path=\"url(#clip560)\" style=\"stroke:#000000; stroke-linecap:butt; stroke-linejoin:round; stroke-width:4; stroke-opacity:1; fill:none\" points=\"\n  175.59,1486.45 175.59,1467.55 \n  \"/>\n<polyline clip-path=\"url(#clip560)\" style=\"stroke:#000000; stroke-linecap:butt; stroke-linejoin:round; stroke-width:4; stroke-opacity:1; fill:none\" points=\"\n  704.028,1486.45 704.028,1467.55 \n  \"/>\n<polyline clip-path=\"url(#clip560)\" style=\"stroke:#000000; stroke-linecap:butt; stroke-linejoin:round; stroke-width:4; stroke-opacity:1; fill:none\" points=\"\n  1232.47,1486.45 1232.47,1467.55 \n  \"/>\n<polyline clip-path=\"url(#clip560)\" style=\"stroke:#000000; stroke-linecap:butt; stroke-linejoin:round; stroke-width:4; stroke-opacity:1; fill:none\" points=\"\n  1760.9,1486.45 1760.9,1467.55 \n  \"/>\n<polyline clip-path=\"url(#clip560)\" style=\"stroke:#000000; stroke-linecap:butt; stroke-linejoin:round; stroke-width:4; stroke-opacity:1; fill:none\" points=\"\n  2289.34,1486.45 2289.34,1467.55 \n  \"/>\n<path clip-path=\"url(#clip560)\" d=\"M175.59 1517.37 Q171.979 1517.37 170.15 1520.93 Q168.344 1524.47 168.344 1531.6 Q168.344 1538.71 170.15 1542.27 Q171.979 1545.82 175.59 1545.82 Q179.224 1545.82 181.03 1542.27 Q182.858 1538.71 182.858 1531.6 Q182.858 1524.47 181.03 1520.93 Q179.224 1517.37 175.59 1517.37 M175.59 1513.66 Q181.4 1513.66 184.455 1518.27 Q187.534 1522.85 187.534 1531.6 Q187.534 1540.33 184.455 1544.94 Q181.4 1549.52 175.59 1549.52 Q169.78 1549.52 166.701 1544.94 Q163.645 1540.33 163.645 1531.6 Q163.645 1522.85 166.701 1518.27 Q169.78 1513.66 175.59 1513.66 Z\" fill=\"#000000\" fill-rule=\"evenodd\" fill-opacity=\"1\" /><path clip-path=\"url(#clip560)\" d=\"M694.306 1514.29 L712.662 1514.29 L712.662 1518.22 L698.588 1518.22 L698.588 1526.7 Q699.607 1526.35 700.625 1526.19 Q701.644 1526 702.662 1526 Q708.449 1526 711.829 1529.17 Q715.209 1532.34 715.209 1537.76 Q715.209 1543.34 711.736 1546.44 Q708.264 1549.52 701.945 1549.52 Q699.769 1549.52 697.5 1549.15 Q695.255 1548.78 692.848 1548.04 L692.848 1543.34 Q694.931 1544.47 697.153 1545.03 Q699.375 1545.58 701.852 1545.58 Q705.857 1545.58 708.195 1543.48 Q710.533 1541.37 710.533 1537.76 Q710.533 1534.15 708.195 1532.04 Q705.857 1529.94 701.852 1529.94 Q699.977 1529.94 698.102 1530.35 Q696.25 1530.77 694.306 1531.65 L694.306 1514.29 Z\" fill=\"#000000\" fill-rule=\"evenodd\" fill-opacity=\"1\" /><path clip-path=\"url(#clip560)\" d=\"M1207.15 1544.91 L1214.79 1544.91 L1214.79 1518.55 L1206.48 1520.21 L1206.48 1515.95 L1214.75 1514.29 L1219.42 1514.29 L1219.42 1544.91 L1227.06 1544.91 L1227.06 1548.85 L1207.15 1548.85 L1207.15 1544.91 Z\" fill=\"#000000\" fill-rule=\"evenodd\" fill-opacity=\"1\" /><path clip-path=\"url(#clip560)\" d=\"M1246.51 1517.37 Q1242.89 1517.37 1241.07 1520.93 Q1239.26 1524.47 1239.26 1531.6 Q1239.26 1538.71 1241.07 1542.27 Q1242.89 1545.82 1246.51 1545.82 Q1250.14 1545.82 1251.95 1542.27 Q1253.77 1538.71 1253.77 1531.6 Q1253.77 1524.47 1251.95 1520.93 Q1250.14 1517.37 1246.51 1517.37 M1246.51 1513.66 Q1252.32 1513.66 1255.37 1518.27 Q1258.45 1522.85 1258.45 1531.6 Q1258.45 1540.33 1255.37 1544.94 Q1252.32 1549.52 1246.51 1549.52 Q1240.7 1549.52 1237.62 1544.94 Q1234.56 1540.33 1234.56 1531.6 Q1234.56 1522.85 1237.62 1518.27 Q1240.7 1513.66 1246.51 1513.66 Z\" fill=\"#000000\" fill-rule=\"evenodd\" fill-opacity=\"1\" /><path clip-path=\"url(#clip560)\" d=\"M1736.09 1544.91 L1743.73 1544.91 L1743.73 1518.55 L1735.42 1520.21 L1735.42 1515.95 L1743.68 1514.29 L1748.36 1514.29 L1748.36 1544.91 L1756 1544.91 L1756 1548.85 L1736.09 1548.85 L1736.09 1544.91 Z\" fill=\"#000000\" fill-rule=\"evenodd\" fill-opacity=\"1\" /><path clip-path=\"url(#clip560)\" d=\"M1765.49 1514.29 L1783.84 1514.29 L1783.84 1518.22 L1769.77 1518.22 L1769.77 1526.7 Q1770.79 1526.35 1771.81 1526.19 Q1772.83 1526 1773.84 1526 Q1779.63 1526 1783.01 1529.17 Q1786.39 1532.34 1786.39 1537.76 Q1786.39 1543.34 1782.92 1546.44 Q1779.45 1549.52 1773.13 1549.52 Q1770.95 1549.52 1768.68 1549.15 Q1766.44 1548.78 1764.03 1548.04 L1764.03 1543.34 Q1766.11 1544.47 1768.34 1545.03 Q1770.56 1545.58 1773.03 1545.58 Q1777.04 1545.58 1779.38 1543.48 Q1781.71 1541.37 1781.71 1537.76 Q1781.71 1534.15 1779.38 1532.04 Q1777.04 1529.94 1773.03 1529.94 Q1771.16 1529.94 1769.28 1530.35 Q1767.43 1530.77 1765.49 1531.65 L1765.49 1514.29 Z\" fill=\"#000000\" fill-rule=\"evenodd\" fill-opacity=\"1\" /><path clip-path=\"url(#clip560)\" d=\"M2268.12 1544.91 L2284.44 1544.91 L2284.44 1548.85 L2262.49 1548.85 L2262.49 1544.91 Q2265.15 1542.16 2269.74 1537.53 Q2274.34 1532.88 2275.52 1531.53 Q2277.77 1529.01 2278.65 1527.27 Q2279.55 1525.51 2279.55 1523.82 Q2279.55 1521.07 2277.61 1519.33 Q2275.69 1517.6 2272.58 1517.6 Q2270.39 1517.6 2267.93 1518.36 Q2265.5 1519.13 2262.72 1520.68 L2262.72 1515.95 Q2265.55 1514.82 2268 1514.24 Q2270.45 1513.66 2272.49 1513.66 Q2277.86 1513.66 2281.06 1516.35 Q2284.25 1519.03 2284.25 1523.52 Q2284.25 1525.65 2283.44 1527.57 Q2282.65 1529.47 2280.55 1532.07 Q2279.97 1532.74 2276.87 1535.95 Q2273.76 1539.15 2268.12 1544.91 Z\" fill=\"#000000\" fill-rule=\"evenodd\" fill-opacity=\"1\" /><path clip-path=\"url(#clip560)\" d=\"M2304.25 1517.37 Q2300.64 1517.37 2298.81 1520.93 Q2297.01 1524.47 2297.01 1531.6 Q2297.01 1538.71 2298.81 1542.27 Q2300.64 1545.82 2304.25 1545.82 Q2307.88 1545.82 2309.69 1542.27 Q2311.52 1538.71 2311.52 1531.6 Q2311.52 1524.47 2309.69 1520.93 Q2307.88 1517.37 2304.25 1517.37 M2304.25 1513.66 Q2310.06 1513.66 2313.12 1518.27 Q2316.2 1522.85 2316.2 1531.6 Q2316.2 1540.33 2313.12 1544.94 Q2310.06 1549.52 2304.25 1549.52 Q2298.44 1549.52 2295.36 1544.94 Q2292.31 1540.33 2292.31 1531.6 Q2292.31 1522.85 2295.36 1518.27 Q2298.44 1513.66 2304.25 1513.66 Z\" fill=\"#000000\" fill-rule=\"evenodd\" fill-opacity=\"1\" /><polyline clip-path=\"url(#clip562)\" style=\"stroke:#000000; stroke-linecap:butt; stroke-linejoin:round; stroke-width:2; stroke-opacity:0.1; fill:none\" points=\"\n  112.177,1391.41 2352.76,1391.41 \n  \"/>\n<polyline clip-path=\"url(#clip562)\" style=\"stroke:#000000; stroke-linecap:butt; stroke-linejoin:round; stroke-width:2; stroke-opacity:0.1; fill:none\" points=\"\n  112.177,1174.17 2352.76,1174.17 \n  \"/>\n<polyline clip-path=\"url(#clip562)\" style=\"stroke:#000000; stroke-linecap:butt; stroke-linejoin:round; stroke-width:2; stroke-opacity:0.1; fill:none\" points=\"\n  112.177,956.93 2352.76,956.93 \n  \"/>\n<polyline clip-path=\"url(#clip562)\" style=\"stroke:#000000; stroke-linecap:butt; stroke-linejoin:round; stroke-width:2; stroke-opacity:0.1; fill:none\" points=\"\n  112.177,739.691 2352.76,739.691 \n  \"/>\n<polyline clip-path=\"url(#clip562)\" style=\"stroke:#000000; stroke-linecap:butt; stroke-linejoin:round; stroke-width:2; stroke-opacity:0.1; fill:none\" points=\"\n  112.177,522.453 2352.76,522.453 \n  \"/>\n<polyline clip-path=\"url(#clip562)\" style=\"stroke:#000000; stroke-linecap:butt; stroke-linejoin:round; stroke-width:2; stroke-opacity:0.1; fill:none\" points=\"\n  112.177,305.215 2352.76,305.215 \n  \"/>\n<polyline clip-path=\"url(#clip562)\" style=\"stroke:#000000; stroke-linecap:butt; stroke-linejoin:round; stroke-width:2; stroke-opacity:0.1; fill:none\" points=\"\n  112.177,87.9763 2352.76,87.9763 \n  \"/>\n<polyline clip-path=\"url(#clip560)\" style=\"stroke:#000000; stroke-linecap:butt; stroke-linejoin:round; stroke-width:4; stroke-opacity:1; fill:none\" points=\"\n  112.177,1486.45 112.177,47.2441 \n  \"/>\n<polyline clip-path=\"url(#clip560)\" style=\"stroke:#000000; stroke-linecap:butt; stroke-linejoin:round; stroke-width:4; stroke-opacity:1; fill:none\" points=\"\n  112.177,1391.41 131.075,1391.41 \n  \"/>\n<polyline clip-path=\"url(#clip560)\" style=\"stroke:#000000; stroke-linecap:butt; stroke-linejoin:round; stroke-width:4; stroke-opacity:1; fill:none\" points=\"\n  112.177,1174.17 131.075,1174.17 \n  \"/>\n<polyline clip-path=\"url(#clip560)\" style=\"stroke:#000000; stroke-linecap:butt; stroke-linejoin:round; stroke-width:4; stroke-opacity:1; fill:none\" points=\"\n  112.177,956.93 131.075,956.93 \n  \"/>\n<polyline clip-path=\"url(#clip560)\" style=\"stroke:#000000; stroke-linecap:butt; stroke-linejoin:round; stroke-width:4; stroke-opacity:1; fill:none\" points=\"\n  112.177,739.691 131.075,739.691 \n  \"/>\n<polyline clip-path=\"url(#clip560)\" style=\"stroke:#000000; stroke-linecap:butt; stroke-linejoin:round; stroke-width:4; stroke-opacity:1; fill:none\" points=\"\n  112.177,522.453 131.075,522.453 \n  \"/>\n<polyline clip-path=\"url(#clip560)\" style=\"stroke:#000000; stroke-linecap:butt; stroke-linejoin:round; stroke-width:4; stroke-opacity:1; fill:none\" points=\"\n  112.177,305.215 131.075,305.215 \n  \"/>\n<polyline clip-path=\"url(#clip560)\" style=\"stroke:#000000; stroke-linecap:butt; stroke-linejoin:round; stroke-width:4; stroke-opacity:1; fill:none\" points=\"\n  112.177,87.9763 131.075,87.9763 \n  \"/>\n<path clip-path=\"url(#clip560)\" d=\"M64.2328 1377.2 Q60.6217 1377.2 58.793 1380.77 Q56.9875 1384.31 56.9875 1391.44 Q56.9875 1398.55 58.793 1402.11 Q60.6217 1405.65 64.2328 1405.65 Q67.867 1405.65 69.6726 1402.11 Q71.5013 1398.55 71.5013 1391.44 Q71.5013 1384.31 69.6726 1380.77 Q67.867 1377.2 64.2328 1377.2 M64.2328 1373.5 Q70.0429 1373.5 73.0985 1378.11 Q76.1772 1382.69 76.1772 1391.44 Q76.1772 1400.17 73.0985 1404.77 Q70.0429 1409.36 64.2328 1409.36 Q58.4226 1409.36 55.344 1404.77 Q52.2884 1400.17 52.2884 1391.44 Q52.2884 1382.69 55.344 1378.11 Q58.4226 1373.5 64.2328 1373.5 Z\" fill=\"#000000\" fill-rule=\"evenodd\" fill-opacity=\"1\" /><path clip-path=\"url(#clip560)\" d=\"M56.2699 1187.51 L63.9087 1187.51 L63.9087 1161.15 L55.5986 1162.81 L55.5986 1158.55 L63.8624 1156.89 L68.5383 1156.89 L68.5383 1187.51 L76.1772 1187.51 L76.1772 1191.45 L56.2699 1191.45 L56.2699 1187.51 Z\" fill=\"#000000\" fill-rule=\"evenodd\" fill-opacity=\"1\" /><path clip-path=\"url(#clip560)\" d=\"M59.8578 970.274 L76.1772 970.274 L76.1772 974.21 L54.2328 974.21 L54.2328 970.274 Q56.8949 967.52 61.4782 962.89 Q66.0846 958.237 67.2652 956.895 Q69.5105 954.372 70.3902 952.636 Q71.2929 950.876 71.2929 949.186 Q71.2929 946.432 69.3485 944.696 Q67.4272 942.96 64.3254 942.96 Q62.1263 942.96 59.6726 943.724 Q57.2421 944.487 54.4643 946.038 L54.4643 941.316 Q57.2884 940.182 59.7421 939.603 Q62.1958 939.025 64.2328 939.025 Q69.6031 939.025 72.7976 941.71 Q75.992 944.395 75.992 948.886 Q75.992 951.015 75.1818 952.936 Q74.3948 954.835 72.2883 957.427 Q71.7096 958.098 68.6078 961.316 Q65.5059 964.51 59.8578 970.274 Z\" fill=\"#000000\" fill-rule=\"evenodd\" fill-opacity=\"1\" /><path clip-path=\"url(#clip560)\" d=\"M69.0476 738.337 Q72.404 739.055 74.279 741.323 Q76.1772 743.592 76.1772 746.925 Q76.1772 752.041 72.6587 754.842 Q69.1402 757.642 62.6587 757.642 Q60.4828 757.642 58.168 757.203 Q55.8764 756.786 53.4227 755.93 L53.4227 751.416 Q55.3671 752.55 57.6819 753.129 Q59.9967 753.707 62.5198 753.707 Q66.918 753.707 69.2096 751.971 Q71.5244 750.235 71.5244 746.925 Q71.5244 743.869 69.3717 742.156 Q67.242 740.42 63.4226 740.42 L59.3949 740.42 L59.3949 736.578 L63.6078 736.578 Q67.0569 736.578 68.8855 735.212 Q70.7142 733.823 70.7142 731.231 Q70.7142 728.569 68.8161 727.157 Q66.9411 725.721 63.4226 725.721 Q61.5013 725.721 59.3023 726.138 Q57.1032 726.555 54.4643 727.434 L54.4643 723.268 Q57.1264 722.527 59.4412 722.157 Q61.7791 721.786 63.8393 721.786 Q69.1633 721.786 72.2652 724.217 Q75.367 726.624 75.367 730.744 Q75.367 733.615 73.7235 735.606 Q72.08 737.573 69.0476 738.337 Z\" fill=\"#000000\" fill-rule=\"evenodd\" fill-opacity=\"1\" /><path clip-path=\"url(#clip560)\" d=\"M66.5939 509.247 L54.7884 527.696 L66.5939 527.696 L66.5939 509.247 M65.367 505.173 L71.2466 505.173 L71.2466 527.696 L76.1772 527.696 L76.1772 531.585 L71.2466 531.585 L71.2466 539.733 L66.5939 539.733 L66.5939 531.585 L50.9921 531.585 L50.9921 527.071 L65.367 505.173 Z\" fill=\"#000000\" fill-rule=\"evenodd\" fill-opacity=\"1\" /><path clip-path=\"url(#clip560)\" d=\"M55.2745 287.935 L73.6309 287.935 L73.6309 291.87 L59.5569 291.87 L59.5569 300.342 Q60.5754 299.995 61.5939 299.833 Q62.6124 299.647 63.6309 299.647 Q69.418 299.647 72.7976 302.819 Q76.1772 305.99 76.1772 311.407 Q76.1772 316.985 72.705 320.087 Q69.2328 323.166 62.9134 323.166 Q60.7374 323.166 58.4689 322.796 Q56.2236 322.425 53.8162 321.684 L53.8162 316.985 Q55.8995 318.12 58.1217 318.675 Q60.3439 319.231 62.8208 319.231 Q66.8254 319.231 69.1633 317.124 Q71.5013 315.018 71.5013 311.407 Q71.5013 307.796 69.1633 305.689 Q66.8254 303.583 62.8208 303.583 Q60.9458 303.583 59.0708 303.999 Q57.2189 304.416 55.2745 305.296 L55.2745 287.935 Z\" fill=\"#000000\" fill-rule=\"evenodd\" fill-opacity=\"1\" /><path clip-path=\"url(#clip560)\" d=\"M64.6495 86.1129 Q61.5013 86.1129 59.6495 88.2656 Q57.8208 90.4184 57.8208 94.1684 Q57.8208 97.8952 59.6495 100.071 Q61.5013 102.224 64.6495 102.224 Q67.7976 102.224 69.6263 100.071 Q71.4781 97.8952 71.4781 94.1684 Q71.4781 90.4184 69.6263 88.2656 Q67.7976 86.1129 64.6495 86.1129 M73.9318 71.4602 L73.9318 75.7194 Q72.1726 74.8861 70.367 74.4463 Q68.5846 74.0064 66.8254 74.0064 Q62.1958 74.0064 59.7421 77.1314 Q57.3115 80.2564 56.9643 86.5758 Q58.33 84.5619 60.3902 83.4971 Q62.4504 82.4092 64.9272 82.4092 Q70.1355 82.4092 73.1448 85.5805 Q76.1772 88.7286 76.1772 94.1684 Q76.1772 99.4924 73.029 102.71 Q69.8809 105.928 64.6495 105.928 Q58.6541 105.928 55.4828 101.344 Q52.3116 96.7378 52.3116 88.011 Q52.3116 79.8166 56.2004 74.9555 Q60.0893 70.0713 66.6402 70.0713 Q68.3994 70.0713 70.1818 70.4185 Q71.9874 70.7657 73.9318 71.4602 Z\" fill=\"#000000\" fill-rule=\"evenodd\" fill-opacity=\"1\" /><polyline clip-path=\"url(#clip562)\" style=\"stroke:#009af9; stroke-linecap:butt; stroke-linejoin:round; stroke-width:4; stroke-opacity:1; fill:none\" points=\"\n  175.59,1391.41 286.84,1366.13 398.09,1336.04 509.34,1301.14 620.591,1261.42 731.841,1216.89 843.091,1167.55 954.341,1113.39 1065.59,1054.42 1176.84,990.629 \n  1288.09,922.027 1399.34,848.611 1510.59,770.381 1621.84,687.337 1733.09,599.479 1844.34,506.807 1955.59,409.32 2066.84,307.02 2178.09,199.905 2289.34,87.9763 \n  \n  \"/>\n<polyline clip-path=\"url(#clip562)\" style=\"stroke:#e26f46; stroke-linecap:butt; stroke-linejoin:round; stroke-width:4; stroke-opacity:1; fill:none\" points=\"\n  175.59,1445.72 286.84,1399.98 398.09,1354.25 509.34,1308.51 620.591,1262.78 731.841,1217.04 843.091,1171.31 954.341,1125.58 1065.59,1079.84 1176.84,1034.11 \n  1288.09,988.372 1399.34,942.638 1510.59,896.903 1621.84,851.169 1733.09,805.434 1844.34,759.7 1955.59,713.966 2066.84,668.231 2178.09,622.497 2289.34,576.762 \n  \n  \"/>\n<circle clip-path=\"url(#clip562)\" cx=\"704.028\" cy=\"1228.48\" r=\"18\" fill=\"#008000\" fill-rule=\"evenodd\" fill-opacity=\"0.6\" stroke=\"#ff0000\" stroke-opacity=\"0.6\" stroke-width=\"3.2\"/>\n<path clip-path=\"url(#clip560)\" d=\"\nM1913.65 302.578 L2278.07 302.578 L2278.07 95.2176 L1913.65 95.2176  Z\n  \" fill=\"#ffffff\" fill-rule=\"evenodd\" fill-opacity=\"1\"/>\n<polyline clip-path=\"url(#clip560)\" style=\"stroke:#000000; stroke-linecap:butt; stroke-linejoin:round; stroke-width:4; stroke-opacity:1; fill:none\" points=\"\n  1913.65,302.578 2278.07,302.578 2278.07,95.2176 1913.65,95.2176 1913.65,302.578 \n  \"/>\n<polyline clip-path=\"url(#clip560)\" style=\"stroke:#009af9; stroke-linecap:butt; stroke-linejoin:round; stroke-width:4; stroke-opacity:1; fill:none\" points=\"\n  1938.55,147.058 2087.92,147.058 \n  \"/>\n<path clip-path=\"url(#clip560)\" d=\"M2129.32 128.319 L2129.32 131.861 L2125.25 131.861 Q2122.96 131.861 2122.05 132.787 Q2121.17 133.713 2121.17 136.12 L2121.17 138.412 L2128.19 138.412 L2128.19 141.722 L2121.17 141.722 L2121.17 164.338 L2116.89 164.338 L2116.89 141.722 L2112.82 141.722 L2112.82 138.412 L2116.89 138.412 L2116.89 136.606 Q2116.89 132.278 2118.9 130.31 Q2120.92 128.319 2125.29 128.319 L2129.32 128.319 Z\" fill=\"#000000\" fill-rule=\"evenodd\" fill-opacity=\"1\" /><path clip-path=\"url(#clip560)\" d=\"M2143.12 128.366 Q2140.02 133.69 2138.51 138.898 Q2137.01 144.106 2137.01 149.453 Q2137.01 154.801 2138.51 160.055 Q2140.04 165.287 2143.12 170.588 L2139.41 170.588 Q2135.94 165.148 2134.21 159.893 Q2132.49 154.639 2132.49 149.453 Q2132.49 144.291 2134.21 139.06 Q2135.92 133.828 2139.41 128.366 L2143.12 128.366 Z\" fill=\"#000000\" fill-rule=\"evenodd\" fill-opacity=\"1\" /><path clip-path=\"url(#clip560)\" d=\"M2172.93 138.412 L2163.56 151.027 L2173.42 164.338 L2168.4 164.338 L2160.85 154.152 L2153.3 164.338 L2148.28 164.338 L2158.35 150.773 L2149.14 138.412 L2154.16 138.412 L2161.03 147.648 L2167.91 138.412 L2172.93 138.412 Z\" fill=\"#000000\" fill-rule=\"evenodd\" fill-opacity=\"1\" /><path clip-path=\"url(#clip560)\" d=\"M2178.77 128.366 L2182.47 128.366 Q2185.94 133.828 2187.65 139.06 Q2189.39 144.291 2189.39 149.453 Q2189.39 154.639 2187.65 159.893 Q2185.94 165.148 2182.47 170.588 L2178.77 170.588 Q2181.84 165.287 2183.35 160.055 Q2184.88 154.801 2184.88 149.453 Q2184.88 144.106 2183.35 138.898 Q2181.84 133.69 2178.77 128.366 Z\" fill=\"#000000\" fill-rule=\"evenodd\" fill-opacity=\"1\" /><polyline clip-path=\"url(#clip560)\" style=\"stroke:#e26f46; stroke-linecap:butt; stroke-linejoin:round; stroke-width:4; stroke-opacity:1; fill:none\" points=\"\n  1938.55,198.898 2087.92,198.898 \n  \"/>\n<path clip-path=\"url(#clip560)\" d=\"M2129.32 180.159 L2129.32 183.701 L2125.25 183.701 Q2122.96 183.701 2122.05 184.627 Q2121.17 185.553 2121.17 187.96 L2121.17 190.252 L2128.19 190.252 L2128.19 193.562 L2121.17 193.562 L2121.17 216.178 L2116.89 216.178 L2116.89 193.562 L2112.82 193.562 L2112.82 190.252 L2116.89 190.252 L2116.89 188.446 Q2116.89 184.118 2118.9 182.15 Q2120.92 180.159 2125.29 180.159 L2129.32 180.159 Z\" fill=\"#000000\" fill-rule=\"evenodd\" fill-opacity=\"1\" /><path clip-path=\"url(#clip560)\" d=\"M2136.91 181.618 L2136.91 194.465 L2132.98 194.465 L2132.98 181.618 L2136.91 181.618 Z\" fill=\"#000000\" fill-rule=\"evenodd\" fill-opacity=\"1\" /><path clip-path=\"url(#clip560)\" d=\"M2156.15 180.206 Q2153.05 185.53 2151.54 190.738 Q2150.04 195.946 2150.04 201.293 Q2150.04 206.641 2151.54 211.895 Q2153.07 217.127 2156.15 222.428 L2152.45 222.428 Q2148.97 216.988 2147.24 211.733 Q2145.53 206.479 2145.53 201.293 Q2145.53 196.131 2147.24 190.9 Q2148.95 185.668 2152.45 180.206 L2156.15 180.206 Z\" fill=\"#000000\" fill-rule=\"evenodd\" fill-opacity=\"1\" /><path clip-path=\"url(#clip560)\" d=\"M2185.96 190.252 L2176.59 202.867 L2186.45 216.178 L2181.43 216.178 L2173.88 205.992 L2166.34 216.178 L2161.31 216.178 L2171.38 202.613 L2162.17 190.252 L2167.19 190.252 L2174.07 199.488 L2180.94 190.252 L2185.96 190.252 Z\" fill=\"#000000\" fill-rule=\"evenodd\" fill-opacity=\"1\" /><path clip-path=\"url(#clip560)\" d=\"M2191.8 180.206 L2195.5 180.206 Q2198.97 185.668 2200.69 190.9 Q2202.42 196.131 2202.42 201.293 Q2202.42 206.479 2200.69 211.733 Q2198.97 216.988 2195.5 222.428 L2191.8 222.428 Q2194.88 217.127 2196.38 211.895 Q2197.91 206.641 2197.91 201.293 Q2197.91 195.946 2196.38 190.738 Q2194.88 185.53 2191.8 180.206 Z\" fill=\"#000000\" fill-rule=\"evenodd\" fill-opacity=\"1\" /><circle clip-path=\"url(#clip560)\" cx=\"2013.24\" cy=\"250.738\" r=\"23.04\" fill=\"#008000\" fill-rule=\"evenodd\" fill-opacity=\"0.6\" stroke=\"#ff0000\" stroke-opacity=\"0.6\" stroke-width=\"4.096\"/>\n<path clip-path=\"url(#clip560)\" d=\"M2117.1 264.129 L2117.1 277.879 L2112.82 277.879 L2112.82 242.092 L2117.1 242.092 L2117.1 246.027 Q2118.44 243.712 2120.48 242.601 Q2122.54 241.467 2125.39 241.467 Q2130.11 241.467 2133.05 245.217 Q2136.01 248.967 2136.01 255.078 Q2136.01 261.189 2133.05 264.939 Q2130.11 268.689 2125.39 268.689 Q2122.54 268.689 2120.48 267.578 Q2118.44 266.443 2117.1 264.129 M2131.59 255.078 Q2131.59 250.379 2129.65 247.717 Q2127.72 245.032 2124.34 245.032 Q2120.97 245.032 2119.02 247.717 Q2117.1 250.379 2117.1 255.078 Q2117.1 259.777 2119.02 262.462 Q2120.97 265.124 2124.34 265.124 Q2127.72 265.124 2129.65 262.462 Q2131.59 259.777 2131.59 255.078 Z\" fill=\"#000000\" fill-rule=\"evenodd\" fill-opacity=\"1\" /><path clip-path=\"url(#clip560)\" d=\"M2153.12 245.078 Q2149.69 245.078 2147.7 247.763 Q2145.71 250.425 2145.71 255.078 Q2145.71 259.731 2147.68 262.416 Q2149.67 265.078 2153.12 265.078 Q2156.52 265.078 2158.51 262.393 Q2160.5 259.707 2160.5 255.078 Q2160.5 250.471 2158.51 247.786 Q2156.52 245.078 2153.12 245.078 M2153.12 241.467 Q2158.67 241.467 2161.84 245.078 Q2165.02 248.689 2165.02 255.078 Q2165.02 261.444 2161.84 265.078 Q2158.67 268.689 2153.12 268.689 Q2147.54 268.689 2144.37 265.078 Q2141.22 261.444 2141.22 255.078 Q2141.22 248.689 2144.37 245.078 Q2147.54 241.467 2153.12 241.467 Z\" fill=\"#000000\" fill-rule=\"evenodd\" fill-opacity=\"1\" /><path clip-path=\"url(#clip560)\" d=\"M2172.08 242.092 L2176.34 242.092 L2176.34 268.018 L2172.08 268.018 L2172.08 242.092 M2172.08 231.999 L2176.34 231.999 L2176.34 237.393 L2172.08 237.393 L2172.08 231.999 Z\" fill=\"#000000\" fill-rule=\"evenodd\" fill-opacity=\"1\" /><path clip-path=\"url(#clip560)\" d=\"M2206.8 252.369 L2206.8 268.018 L2202.54 268.018 L2202.54 252.508 Q2202.54 248.828 2201.1 246.999 Q2199.67 245.17 2196.8 245.17 Q2193.35 245.17 2191.36 247.37 Q2189.37 249.569 2189.37 253.365 L2189.37 268.018 L2185.09 268.018 L2185.09 242.092 L2189.37 242.092 L2189.37 246.12 Q2190.9 243.782 2192.96 242.624 Q2195.04 241.467 2197.75 241.467 Q2202.21 241.467 2204.51 244.245 Q2206.8 246.999 2206.8 252.369 Z\" fill=\"#000000\" fill-rule=\"evenodd\" fill-opacity=\"1\" /><path clip-path=\"url(#clip560)\" d=\"M2219.51 234.731 L2219.51 242.092 L2228.28 242.092 L2228.28 245.402 L2219.51 245.402 L2219.51 259.476 Q2219.51 262.647 2220.36 263.55 Q2221.24 264.453 2223.9 264.453 L2228.28 264.453 L2228.28 268.018 L2223.9 268.018 Q2218.97 268.018 2217.1 266.189 Q2215.22 264.337 2215.22 259.476 L2215.22 245.402 L2212.1 245.402 L2212.1 242.092 L2215.22 242.092 L2215.22 234.731 L2219.51 234.731 Z\" fill=\"#000000\" fill-rule=\"evenodd\" fill-opacity=\"1\" /></svg>\n"
     },
     "execution_count": 90,
     "metadata": {},
     "output_type": "execute_result"
    }
   ],
   "source": [
    "plot(\n",
    "    x, [x -> function_1(x), x -> ForwardDiff.derivative(function_1, 5)*(x-5)+function_1(5)],\n",
    "    label=[\"f(x)\"  \"f'(x)\"]\n",
    ");\n",
    "scatter!(\n",
    "    [5],[function_1(5)],\n",
    "    label=\"point\",\n",
    "    markershape=:circle,\n",
    "    markersize=5,\n",
    "    markercolor=:green,\n",
    "    markeralpha=0.6,\n",
    "    markerstrokewidth=1,\n",
    "    markerstrokecolor = :red,\n",
    "    markerstrokestyle = :dot\n",
    ")"
   ]
  },
  {
   "cell_type": "code",
   "execution_count": 97,
   "metadata": {},
   "outputs": [
    {
     "data": {
      "text/plain": [
       "function_2 (generic function with 1 method)"
      ]
     },
     "execution_count": 97,
     "metadata": {},
     "output_type": "execute_result"
    }
   ],
   "source": [
    "function function_2(x::Vector)\n",
    "    return x[1]^2+x[2]^2\n",
    "end"
   ]
  },
  {
   "cell_type": "code",
   "execution_count": 99,
   "metadata": {},
   "outputs": [
    {
     "data": {
      "text/plain": [
       "25"
      ]
     },
     "execution_count": 99,
     "metadata": {},
     "output_type": "execute_result"
    }
   ],
   "source": [
    "function_2([3,4])"
   ]
  },
  {
   "cell_type": "code",
   "execution_count": 101,
   "metadata": {},
   "outputs": [
    {
     "data": {
      "text/plain": [
       "2-element Vector{Int64}:\n",
       " 6\n",
       " 8"
      ]
     },
     "execution_count": 101,
     "metadata": {},
     "output_type": "execute_result"
    }
   ],
   "source": [
    "ForwardDiff.gradient(function_2, [3,4])"
   ]
  },
  {
   "cell_type": "markdown",
   "metadata": {},
   "source": [
    "## 勾配法"
   ]
  },
  {
   "cell_type": "code",
   "execution_count": 114,
   "metadata": {},
   "outputs": [
    {
     "data": {
      "text/plain": [
       "gradient_descent (generic function with 3 methods)"
      ]
     },
     "execution_count": 114,
     "metadata": {},
     "output_type": "execute_result"
    }
   ],
   "source": [
    "function gradient_descent(f, init_x, lr=0.01, step_num=100)\n",
    "    x = init_x\n",
    "    for i in 1:step_num\n",
    "        grad = ForwardDiff.gradient(f, x)\n",
    "        x -= lr * grad\n",
    "    end\n",
    "    return x\n",
    "end"
   ]
  },
  {
   "cell_type": "code",
   "execution_count": 116,
   "metadata": {},
   "outputs": [
    {
     "data": {
      "text/plain": [
       "2-element Vector{Float64}:\n",
       " -6.111107929003464e-10\n",
       "  8.148143905337951e-10"
      ]
     },
     "execution_count": 116,
     "metadata": {},
     "output_type": "execute_result"
    }
   ],
   "source": [
    "init_x = [-3.0, 4.0];\n",
    "gradient_descent(function_2, init_x, 0.1, 100)"
   ]
  },
  {
   "cell_type": "code",
   "execution_count": 168,
   "metadata": {},
   "outputs": [
    {
     "data": {
      "text/plain": [
       "gradient_descent2 (generic function with 3 methods)"
      ]
     },
     "execution_count": 168,
     "metadata": {},
     "output_type": "execute_result"
    }
   ],
   "source": [
    "function gradient_descent2(f, init_x, lr=0.01, step_num=100)\n",
    "    x=Vector{Float64}[]\n",
    "    push!(x,init_x)\n",
    "    for i in 1:step_num\n",
    "        grad = ForwardDiff.gradient(f, x[i])\n",
    "        temp=x[i]-lr*grad\n",
    "        push!(x,temp)\n",
    "    end\n",
    "    return x\n",
    "end"
   ]
  },
  {
   "cell_type": "code",
   "execution_count": 169,
   "metadata": {},
   "outputs": [
    {
     "data": {
      "text/plain": [
       "101-element Vector{Vector{Float64}}:\n",
       " [-3.0, 4.0]\n",
       " [-2.4, 3.2]\n",
       " [-1.92, 2.56]\n",
       " [-1.536, 2.048]\n",
       " [-1.2288000000000001, 1.6384]\n",
       " [-0.9830400000000001, 1.31072]\n",
       " [-0.7864320000000001, 1.0485760000000002]\n",
       " [-0.6291456000000001, 0.8388608000000002]\n",
       " [-0.5033164800000001, 0.6710886400000001]\n",
       " [-0.40265318400000005, 0.5368709120000001]\n",
       " [-0.32212254720000005, 0.4294967296000001]\n",
       " [-0.25769803776000005, 0.3435973836800001]\n",
       " [-0.20615843020800004, 0.27487790694400005]\n",
       " ⋮\n",
       " [-7.1142659627407135e-9, 9.485687950320948e-9]\n",
       " [-5.691412770192571e-9, 7.588550360256759e-9]\n",
       " [-4.553130216154057e-9, 6.070840288205408e-9]\n",
       " [-3.6425041729232455e-9, 4.856672230564326e-9]\n",
       " [-2.9140033383385962e-9, 3.885337784451461e-9]\n",
       " [-2.331202670670877e-9, 3.108270227561169e-9]\n",
       " [-1.8649621365367016e-9, 2.4866161820489353e-9]\n",
       " [-1.4919697092293612e-9, 1.989292945639148e-9]\n",
       " [-1.193575767383489e-9, 1.5914343565113183e-9]\n",
       " [-9.548606139067912e-10, 1.2731474852090548e-9]\n",
       " [-7.638884911254329e-10, 1.0185179881672439e-9]\n",
       " [-6.111107929003464e-10, 8.148143905337951e-10]"
      ]
     },
     "execution_count": 169,
     "metadata": {},
     "output_type": "execute_result"
    }
   ],
   "source": [
    "init_x = [-3.0, 4.0];\n",
    "res=gradient_descent2(function_2, init_x, 0.1, 100)"
   ]
  },
  {
   "cell_type": "code",
   "execution_count": 178,
   "metadata": {},
   "outputs": [
    {
     "data": {
      "text/plain": [
       "101×2 Matrix{Float64}:\n",
       " -3.0          4.0\n",
       " -2.4          3.2\n",
       " -1.92         2.56\n",
       " -1.536        2.048\n",
       " -1.2288       1.6384\n",
       " -0.98304      1.31072\n",
       " -0.786432     1.04858\n",
       " -0.629146     0.838861\n",
       " -0.503316     0.671089\n",
       " -0.402653     0.536871\n",
       " -0.322123     0.429497\n",
       " -0.257698     0.343597\n",
       " -0.206158     0.274878\n",
       "  ⋮            \n",
       " -7.11427e-9   9.48569e-9\n",
       " -5.69141e-9   7.58855e-9\n",
       " -4.55313e-9   6.07084e-9\n",
       " -3.6425e-9    4.85667e-9\n",
       " -2.914e-9     3.88534e-9\n",
       " -2.3312e-9    3.10827e-9\n",
       " -1.86496e-9   2.48662e-9\n",
       " -1.49197e-9   1.98929e-9\n",
       " -1.19358e-9   1.59143e-9\n",
       " -9.54861e-10  1.27315e-9\n",
       " -7.63888e-10  1.01852e-9\n",
       " -6.11111e-10  8.14814e-10"
      ]
     },
     "execution_count": 178,
     "metadata": {},
     "output_type": "execute_result"
    }
   ],
   "source": [
    "res_reshape=reduce(vcat, res')"
   ]
  },
  {
   "cell_type": "code",
   "execution_count": 187,
   "metadata": {},
   "outputs": [
    {
     "data": {
      "image/svg+xml": "<?xml version=\"1.0\" encoding=\"utf-8\"?>\n<svg xmlns=\"http://www.w3.org/2000/svg\" xmlns:xlink=\"http://www.w3.org/1999/xlink\" width=\"600\" height=\"400\" viewBox=\"0 0 2400 1600\">\n<defs>\n  <clipPath id=\"clip220\">\n    <rect x=\"0\" y=\"0\" width=\"2400\" height=\"1600\"/>\n  </clipPath>\n</defs>\n<path clip-path=\"url(#clip220)\" d=\"\nM0 1600 L2400 1600 L2400 0 L0 0  Z\n  \" fill=\"#ffffff\" fill-rule=\"evenodd\" fill-opacity=\"1\"/>\n<defs>\n  <clipPath id=\"clip221\">\n    <rect x=\"480\" y=\"0\" width=\"1681\" height=\"1600\"/>\n  </clipPath>\n</defs>\n<path clip-path=\"url(#clip220)\" d=\"\nM149.191 1486.45 L2352.76 1486.45 L2352.76 47.2441 L149.191 47.2441  Z\n  \" fill=\"#ffffff\" fill-rule=\"evenodd\" fill-opacity=\"1\"/>\n<defs>\n  <clipPath id=\"clip222\">\n    <rect x=\"149\" y=\"47\" width=\"2205\" height=\"1440\"/>\n  </clipPath>\n</defs>\n<polyline clip-path=\"url(#clip222)\" style=\"stroke:#000000; stroke-linecap:butt; stroke-linejoin:round; stroke-width:2; stroke-opacity:0.1; fill:none\" points=\"\n  149.191,1486.45 149.191,47.2441 \n  \"/>\n<polyline clip-path=\"url(#clip222)\" style=\"stroke:#000000; stroke-linecap:butt; stroke-linejoin:round; stroke-width:2; stroke-opacity:0.1; fill:none\" points=\"\n  516.452,1486.45 516.452,47.2441 \n  \"/>\n<polyline clip-path=\"url(#clip222)\" style=\"stroke:#000000; stroke-linecap:butt; stroke-linejoin:round; stroke-width:2; stroke-opacity:0.1; fill:none\" points=\"\n  883.713,1486.45 883.713,47.2441 \n  \"/>\n<polyline clip-path=\"url(#clip222)\" style=\"stroke:#000000; stroke-linecap:butt; stroke-linejoin:round; stroke-width:2; stroke-opacity:0.1; fill:none\" points=\"\n  1250.97,1486.45 1250.97,47.2441 \n  \"/>\n<polyline clip-path=\"url(#clip222)\" style=\"stroke:#000000; stroke-linecap:butt; stroke-linejoin:round; stroke-width:2; stroke-opacity:0.1; fill:none\" points=\"\n  1618.23,1486.45 1618.23,47.2441 \n  \"/>\n<polyline clip-path=\"url(#clip222)\" style=\"stroke:#000000; stroke-linecap:butt; stroke-linejoin:round; stroke-width:2; stroke-opacity:0.1; fill:none\" points=\"\n  1985.5,1486.45 1985.5,47.2441 \n  \"/>\n<polyline clip-path=\"url(#clip222)\" style=\"stroke:#000000; stroke-linecap:butt; stroke-linejoin:round; stroke-width:2; stroke-opacity:0.1; fill:none\" points=\"\n  2352.76,1486.45 2352.76,47.2441 \n  \"/>\n<polyline clip-path=\"url(#clip220)\" style=\"stroke:#000000; stroke-linecap:butt; stroke-linejoin:round; stroke-width:4; stroke-opacity:1; fill:none\" points=\"\n  149.191,1486.45 2352.76,1486.45 \n  \"/>\n<polyline clip-path=\"url(#clip220)\" style=\"stroke:#000000; stroke-linecap:butt; stroke-linejoin:round; stroke-width:4; stroke-opacity:1; fill:none\" points=\"\n  149.191,1486.45 149.191,1467.55 \n  \"/>\n<polyline clip-path=\"url(#clip220)\" style=\"stroke:#000000; stroke-linecap:butt; stroke-linejoin:round; stroke-width:4; stroke-opacity:1; fill:none\" points=\"\n  516.452,1486.45 516.452,1467.55 \n  \"/>\n<polyline clip-path=\"url(#clip220)\" style=\"stroke:#000000; stroke-linecap:butt; stroke-linejoin:round; stroke-width:4; stroke-opacity:1; fill:none\" points=\"\n  883.713,1486.45 883.713,1467.55 \n  \"/>\n<polyline clip-path=\"url(#clip220)\" style=\"stroke:#000000; stroke-linecap:butt; stroke-linejoin:round; stroke-width:4; stroke-opacity:1; fill:none\" points=\"\n  1250.97,1486.45 1250.97,1467.55 \n  \"/>\n<polyline clip-path=\"url(#clip220)\" style=\"stroke:#000000; stroke-linecap:butt; stroke-linejoin:round; stroke-width:4; stroke-opacity:1; fill:none\" points=\"\n  1618.23,1486.45 1618.23,1467.55 \n  \"/>\n<polyline clip-path=\"url(#clip220)\" style=\"stroke:#000000; stroke-linecap:butt; stroke-linejoin:round; stroke-width:4; stroke-opacity:1; fill:none\" points=\"\n  1985.5,1486.45 1985.5,1467.55 \n  \"/>\n<polyline clip-path=\"url(#clip220)\" style=\"stroke:#000000; stroke-linecap:butt; stroke-linejoin:round; stroke-width:4; stroke-opacity:1; fill:none\" points=\"\n  2352.76,1486.45 2352.76,1467.55 \n  \"/>\n<path clip-path=\"url(#clip220)\" d=\"M118.659 1532.02 L148.334 1532.02 L148.334 1535.95 L118.659 1535.95 L118.659 1532.02 Z\" fill=\"#000000\" fill-rule=\"evenodd\" fill-opacity=\"1\" /><path clip-path=\"url(#clip220)\" d=\"M172.594 1530.21 Q175.95 1530.93 177.825 1533.2 Q179.723 1535.47 179.723 1538.8 Q179.723 1543.92 176.205 1546.72 Q172.686 1549.52 166.205 1549.52 Q164.029 1549.52 161.714 1549.08 Q159.422 1548.66 156.969 1547.81 L156.969 1543.29 Q158.913 1544.43 161.228 1545.01 Q163.543 1545.58 166.066 1545.58 Q170.464 1545.58 172.756 1543.85 Q175.07 1542.11 175.07 1538.8 Q175.07 1535.75 172.918 1534.03 Q170.788 1532.3 166.969 1532.3 L162.941 1532.3 L162.941 1528.45 L167.154 1528.45 Q170.603 1528.45 172.431 1527.09 Q174.26 1525.7 174.26 1523.11 Q174.26 1520.45 172.362 1519.03 Q170.487 1517.6 166.969 1517.6 Q165.047 1517.6 162.848 1518.01 Q160.649 1518.43 158.01 1519.31 L158.01 1515.14 Q160.672 1514.4 162.987 1514.03 Q165.325 1513.66 167.385 1513.66 Q172.709 1513.66 175.811 1516.09 Q178.913 1518.5 178.913 1522.62 Q178.913 1525.49 177.269 1527.48 Q175.626 1529.45 172.594 1530.21 Z\" fill=\"#000000\" fill-rule=\"evenodd\" fill-opacity=\"1\" /><path clip-path=\"url(#clip220)\" d=\"M486.394 1532.02 L516.07 1532.02 L516.07 1535.95 L486.394 1535.95 L486.394 1532.02 Z\" fill=\"#000000\" fill-rule=\"evenodd\" fill-opacity=\"1\" /><path clip-path=\"url(#clip220)\" d=\"M530.19 1544.91 L546.509 1544.91 L546.509 1548.85 L524.565 1548.85 L524.565 1544.91 Q527.227 1542.16 531.81 1537.53 Q536.417 1532.88 537.597 1531.53 Q539.843 1529.01 540.722 1527.27 Q541.625 1525.51 541.625 1523.82 Q541.625 1521.07 539.681 1519.33 Q537.759 1517.6 534.658 1517.6 Q532.459 1517.6 530.005 1518.36 Q527.574 1519.13 524.797 1520.68 L524.797 1515.95 Q527.621 1514.82 530.074 1514.24 Q532.528 1513.66 534.565 1513.66 Q539.935 1513.66 543.13 1516.35 Q546.324 1519.03 546.324 1523.52 Q546.324 1525.65 545.514 1527.57 Q544.727 1529.47 542.621 1532.07 Q542.042 1532.74 538.94 1535.95 Q535.838 1539.15 530.19 1544.91 Z\" fill=\"#000000\" fill-rule=\"evenodd\" fill-opacity=\"1\" /><path clip-path=\"url(#clip220)\" d=\"M853.47 1532.02 L883.145 1532.02 L883.145 1535.95 L853.47 1535.95 L853.47 1532.02 Z\" fill=\"#000000\" fill-rule=\"evenodd\" fill-opacity=\"1\" /><path clip-path=\"url(#clip220)\" d=\"M894.048 1544.91 L901.687 1544.91 L901.687 1518.55 L893.377 1520.21 L893.377 1515.95 L901.641 1514.29 L906.317 1514.29 L906.317 1544.91 L913.955 1544.91 L913.955 1548.85 L894.048 1548.85 L894.048 1544.91 Z\" fill=\"#000000\" fill-rule=\"evenodd\" fill-opacity=\"1\" /><path clip-path=\"url(#clip220)\" d=\"M1250.97 1517.37 Q1247.36 1517.37 1245.53 1520.93 Q1243.73 1524.47 1243.73 1531.6 Q1243.73 1538.71 1245.53 1542.27 Q1247.36 1545.82 1250.97 1545.82 Q1254.61 1545.82 1256.41 1542.27 Q1258.24 1538.71 1258.24 1531.6 Q1258.24 1524.47 1256.41 1520.93 Q1254.61 1517.37 1250.97 1517.37 M1250.97 1513.66 Q1256.78 1513.66 1259.84 1518.27 Q1262.92 1522.85 1262.92 1531.6 Q1262.92 1540.33 1259.84 1544.94 Q1256.78 1549.52 1250.97 1549.52 Q1245.16 1549.52 1242.08 1544.94 Q1239.03 1540.33 1239.03 1531.6 Q1239.03 1522.85 1242.08 1518.27 Q1245.16 1513.66 1250.97 1513.66 Z\" fill=\"#000000\" fill-rule=\"evenodd\" fill-opacity=\"1\" /><path clip-path=\"url(#clip220)\" d=\"M1608.62 1544.91 L1616.26 1544.91 L1616.26 1518.55 L1607.94 1520.21 L1607.94 1515.95 L1616.21 1514.29 L1620.88 1514.29 L1620.88 1544.91 L1628.52 1544.91 L1628.52 1548.85 L1608.62 1548.85 L1608.62 1544.91 Z\" fill=\"#000000\" fill-rule=\"evenodd\" fill-opacity=\"1\" /><path clip-path=\"url(#clip220)\" d=\"M1980.15 1544.91 L1996.47 1544.91 L1996.47 1548.85 L1974.52 1548.85 L1974.52 1544.91 Q1977.18 1542.16 1981.77 1537.53 Q1986.37 1532.88 1987.56 1531.53 Q1989.8 1529.01 1990.68 1527.27 Q1991.58 1525.51 1991.58 1523.82 Q1991.58 1521.07 1989.64 1519.33 Q1987.72 1517.6 1984.62 1517.6 Q1982.42 1517.6 1979.96 1518.36 Q1977.53 1519.13 1974.75 1520.68 L1974.75 1515.95 Q1977.58 1514.82 1980.03 1514.24 Q1982.49 1513.66 1984.52 1513.66 Q1989.89 1513.66 1993.09 1516.35 Q1996.28 1519.03 1996.28 1523.52 Q1996.28 1525.65 1995.47 1527.57 Q1994.68 1529.47 1992.58 1532.07 Q1992 1532.74 1988.9 1535.95 Q1985.8 1539.15 1980.15 1544.91 Z\" fill=\"#000000\" fill-rule=\"evenodd\" fill-opacity=\"1\" /><path clip-path=\"url(#clip220)\" d=\"M2357 1530.21 Q2360.36 1530.93 2362.24 1533.2 Q2364.13 1535.47 2364.13 1538.8 Q2364.13 1543.92 2360.61 1546.72 Q2357.1 1549.52 2350.61 1549.52 Q2348.44 1549.52 2346.12 1549.08 Q2343.83 1548.66 2341.38 1547.81 L2341.38 1543.29 Q2343.32 1544.43 2345.64 1545.01 Q2347.95 1545.58 2350.48 1545.58 Q2354.87 1545.58 2357.17 1543.85 Q2359.48 1542.11 2359.48 1538.8 Q2359.48 1535.75 2357.33 1534.03 Q2355.2 1532.3 2351.38 1532.3 L2347.35 1532.3 L2347.35 1528.45 L2351.56 1528.45 Q2355.01 1528.45 2356.84 1527.09 Q2358.67 1525.7 2358.67 1523.11 Q2358.67 1520.45 2356.77 1519.03 Q2354.9 1517.6 2351.38 1517.6 Q2349.46 1517.6 2347.26 1518.01 Q2345.06 1518.43 2342.42 1519.31 L2342.42 1515.14 Q2345.08 1514.4 2347.4 1514.03 Q2349.74 1513.66 2351.8 1513.66 Q2357.12 1513.66 2360.22 1516.09 Q2363.32 1518.5 2363.32 1522.62 Q2363.32 1525.49 2361.68 1527.48 Q2360.04 1529.45 2357 1530.21 Z\" fill=\"#000000\" fill-rule=\"evenodd\" fill-opacity=\"1\" /><polyline clip-path=\"url(#clip222)\" style=\"stroke:#000000; stroke-linecap:butt; stroke-linejoin:round; stroke-width:2; stroke-opacity:0.1; fill:none\" points=\"\n  149.191,1486.45 2352.76,1486.45 \n  \"/>\n<polyline clip-path=\"url(#clip222)\" style=\"stroke:#000000; stroke-linecap:butt; stroke-linejoin:round; stroke-width:2; stroke-opacity:0.1; fill:none\" points=\"\n  149.191,1126.65 2352.76,1126.65 \n  \"/>\n<polyline clip-path=\"url(#clip222)\" style=\"stroke:#000000; stroke-linecap:butt; stroke-linejoin:round; stroke-width:2; stroke-opacity:0.1; fill:none\" points=\"\n  149.191,766.846 2352.76,766.846 \n  \"/>\n<polyline clip-path=\"url(#clip222)\" style=\"stroke:#000000; stroke-linecap:butt; stroke-linejoin:round; stroke-width:2; stroke-opacity:0.1; fill:none\" points=\"\n  149.191,407.045 2352.76,407.045 \n  \"/>\n<polyline clip-path=\"url(#clip222)\" style=\"stroke:#000000; stroke-linecap:butt; stroke-linejoin:round; stroke-width:2; stroke-opacity:0.1; fill:none\" points=\"\n  149.191,47.2441 2352.76,47.2441 \n  \"/>\n<polyline clip-path=\"url(#clip220)\" style=\"stroke:#000000; stroke-linecap:butt; stroke-linejoin:round; stroke-width:4; stroke-opacity:1; fill:none\" points=\"\n  149.191,1486.45 149.191,47.2441 \n  \"/>\n<polyline clip-path=\"url(#clip220)\" style=\"stroke:#000000; stroke-linecap:butt; stroke-linejoin:round; stroke-width:4; stroke-opacity:1; fill:none\" points=\"\n  149.191,1486.45 168.089,1486.45 \n  \"/>\n<polyline clip-path=\"url(#clip220)\" style=\"stroke:#000000; stroke-linecap:butt; stroke-linejoin:round; stroke-width:4; stroke-opacity:1; fill:none\" points=\"\n  149.191,1126.65 168.089,1126.65 \n  \"/>\n<polyline clip-path=\"url(#clip220)\" style=\"stroke:#000000; stroke-linecap:butt; stroke-linejoin:round; stroke-width:4; stroke-opacity:1; fill:none\" points=\"\n  149.191,766.846 168.089,766.846 \n  \"/>\n<polyline clip-path=\"url(#clip220)\" style=\"stroke:#000000; stroke-linecap:butt; stroke-linejoin:round; stroke-width:4; stroke-opacity:1; fill:none\" points=\"\n  149.191,407.045 168.089,407.045 \n  \"/>\n<polyline clip-path=\"url(#clip220)\" style=\"stroke:#000000; stroke-linecap:butt; stroke-linejoin:round; stroke-width:4; stroke-opacity:1; fill:none\" points=\"\n  149.191,47.2441 168.089,47.2441 \n  \"/>\n<path clip-path=\"url(#clip220)\" d=\"M50.9921 1486.9 L80.6679 1486.9 L80.6679 1490.83 L50.9921 1490.83 L50.9921 1486.9 Z\" fill=\"#000000\" fill-rule=\"evenodd\" fill-opacity=\"1\" /><path clip-path=\"url(#clip220)\" d=\"M103.608 1473.24 L91.8021 1491.69 L103.608 1491.69 L103.608 1473.24 M102.381 1469.17 L108.26 1469.17 L108.26 1491.69 L113.191 1491.69 L113.191 1495.58 L108.26 1495.58 L108.26 1503.73 L103.608 1503.73 L103.608 1495.58 L88.0058 1495.58 L88.0058 1491.07 L102.381 1469.17 Z\" fill=\"#000000\" fill-rule=\"evenodd\" fill-opacity=\"1\" /><path clip-path=\"url(#clip220)\" d=\"M53.0754 1127.1 L82.7512 1127.1 L82.7512 1131.03 L53.0754 1131.03 L53.0754 1127.1 Z\" fill=\"#000000\" fill-rule=\"evenodd\" fill-opacity=\"1\" /><path clip-path=\"url(#clip220)\" d=\"M96.8715 1139.99 L113.191 1139.99 L113.191 1143.93 L91.2465 1143.93 L91.2465 1139.99 Q93.9086 1137.24 98.4919 1132.61 Q103.098 1127.95 104.279 1126.61 Q106.524 1124.09 107.404 1122.35 Q108.307 1120.59 108.307 1118.9 Q108.307 1116.15 106.362 1114.41 Q104.441 1112.68 101.339 1112.68 Q99.14 1112.68 96.6863 1113.44 Q94.2558 1114.2 91.478 1115.76 L91.478 1111.03 Q94.3021 1109.9 96.7558 1109.32 Q99.2095 1108.74 101.246 1108.74 Q106.617 1108.74 109.811 1111.43 Q113.006 1114.11 113.006 1118.6 Q113.006 1120.73 112.196 1122.65 Q111.408 1124.55 109.302 1127.14 Q108.723 1127.82 105.621 1131.03 Q102.52 1134.23 96.8715 1139.99 Z\" fill=\"#000000\" fill-rule=\"evenodd\" fill-opacity=\"1\" /><path clip-path=\"url(#clip220)\" d=\"M101.246 752.645 Q97.6354 752.645 95.8067 756.209 Q94.0012 759.751 94.0012 766.881 Q94.0012 773.987 95.8067 777.552 Q97.6354 781.094 101.246 781.094 Q104.881 781.094 106.686 777.552 Q108.515 773.987 108.515 766.881 Q108.515 759.751 106.686 756.209 Q104.881 752.645 101.246 752.645 M101.246 748.941 Q107.057 748.941 110.112 753.547 Q113.191 758.131 113.191 766.881 Q113.191 775.608 110.112 780.214 Q107.057 784.797 101.246 784.797 Q95.4363 784.797 92.3576 780.214 Q89.3021 775.608 89.3021 766.881 Q89.3021 758.131 92.3576 753.547 Q95.4363 748.941 101.246 748.941 Z\" fill=\"#000000\" fill-rule=\"evenodd\" fill-opacity=\"1\" /><path clip-path=\"url(#clip220)\" d=\"M96.8715 420.39 L113.191 420.39 L113.191 424.325 L91.2465 424.325 L91.2465 420.39 Q93.9086 417.635 98.4919 413.006 Q103.098 408.353 104.279 407.01 Q106.524 404.487 107.404 402.751 Q108.307 400.992 108.307 399.302 Q108.307 396.547 106.362 394.811 Q104.441 393.075 101.339 393.075 Q99.14 393.075 96.6863 393.839 Q94.2558 394.603 91.478 396.154 L91.478 391.432 Q94.3021 390.297 96.7558 389.719 Q99.2095 389.14 101.246 389.14 Q106.617 389.14 109.811 391.825 Q113.006 394.51 113.006 399.001 Q113.006 401.131 112.196 403.052 Q111.408 404.95 109.302 407.543 Q108.723 408.214 105.621 411.432 Q102.52 414.626 96.8715 420.39 Z\" fill=\"#000000\" fill-rule=\"evenodd\" fill-opacity=\"1\" /><path clip-path=\"url(#clip220)\" d=\"M103.608 34.0381 L91.8021 52.4871 L103.608 52.4871 L103.608 34.0381 M102.381 29.9641 L108.26 29.9641 L108.26 52.4871 L113.191 52.4871 L113.191 56.376 L108.26 56.376 L108.26 64.5241 L103.608 64.5241 L103.608 56.376 L88.0058 56.376 L88.0058 51.8621 L102.381 29.9641 Z\" fill=\"#000000\" fill-rule=\"evenodd\" fill-opacity=\"1\" /><circle clip-path=\"url(#clip222)\" cx=\"149.191\" cy=\"47.2441\" r=\"14.4\" fill=\"#009af9\" fill-rule=\"evenodd\" fill-opacity=\"1\" stroke=\"#000000\" stroke-opacity=\"1\" stroke-width=\"3.2\"/>\n<circle clip-path=\"url(#clip222)\" cx=\"369.547\" cy=\"191.164\" r=\"14.4\" fill=\"#009af9\" fill-rule=\"evenodd\" fill-opacity=\"1\" stroke=\"#000000\" stroke-opacity=\"1\" stroke-width=\"3.2\"/>\n<circle clip-path=\"url(#clip222)\" cx=\"545.833\" cy=\"306.301\" r=\"14.4\" fill=\"#009af9\" fill-rule=\"evenodd\" fill-opacity=\"1\" stroke=\"#000000\" stroke-opacity=\"1\" stroke-width=\"3.2\"/>\n<circle clip-path=\"url(#clip222)\" cx=\"686.861\" cy=\"398.41\" r=\"14.4\" fill=\"#009af9\" fill-rule=\"evenodd\" fill-opacity=\"1\" stroke=\"#000000\" stroke-opacity=\"1\" stroke-width=\"3.2\"/>\n<circle clip-path=\"url(#clip222)\" cx=\"799.683\" cy=\"472.097\" r=\"14.4\" fill=\"#009af9\" fill-rule=\"evenodd\" fill-opacity=\"1\" stroke=\"#000000\" stroke-opacity=\"1\" stroke-width=\"3.2\"/>\n<circle clip-path=\"url(#clip222)\" cx=\"889.941\" cy=\"531.047\" r=\"14.4\" fill=\"#009af9\" fill-rule=\"evenodd\" fill-opacity=\"1\" stroke=\"#000000\" stroke-opacity=\"1\" stroke-width=\"3.2\"/>\n<circle clip-path=\"url(#clip222)\" cx=\"962.148\" cy=\"578.207\" r=\"14.4\" fill=\"#009af9\" fill-rule=\"evenodd\" fill-opacity=\"1\" stroke=\"#000000\" stroke-opacity=\"1\" stroke-width=\"3.2\"/>\n<circle clip-path=\"url(#clip222)\" cx=\"1019.91\" cy=\"615.935\" r=\"14.4\" fill=\"#009af9\" fill-rule=\"evenodd\" fill-opacity=\"1\" stroke=\"#000000\" stroke-opacity=\"1\" stroke-width=\"3.2\"/>\n<circle clip-path=\"url(#clip222)\" cx=\"1066.12\" cy=\"646.117\" r=\"14.4\" fill=\"#009af9\" fill-rule=\"evenodd\" fill-opacity=\"1\" stroke=\"#000000\" stroke-opacity=\"1\" stroke-width=\"3.2\"/>\n<circle clip-path=\"url(#clip222)\" cx=\"1103.09\" cy=\"670.263\" r=\"14.4\" fill=\"#009af9\" fill-rule=\"evenodd\" fill-opacity=\"1\" stroke=\"#000000\" stroke-opacity=\"1\" stroke-width=\"3.2\"/>\n<circle clip-path=\"url(#clip222)\" cx=\"1132.67\" cy=\"689.579\" r=\"14.4\" fill=\"#009af9\" fill-rule=\"evenodd\" fill-opacity=\"1\" stroke=\"#000000\" stroke-opacity=\"1\" stroke-width=\"3.2\"/>\n<circle clip-path=\"url(#clip222)\" cx=\"1156.33\" cy=\"705.033\" r=\"14.4\" fill=\"#009af9\" fill-rule=\"evenodd\" fill-opacity=\"1\" stroke=\"#000000\" stroke-opacity=\"1\" stroke-width=\"3.2\"/>\n<circle clip-path=\"url(#clip222)\" cx=\"1175.26\" cy=\"717.395\" r=\"14.4\" fill=\"#009af9\" fill-rule=\"evenodd\" fill-opacity=\"1\" stroke=\"#000000\" stroke-opacity=\"1\" stroke-width=\"3.2\"/>\n<circle clip-path=\"url(#clip222)\" cx=\"1190.4\" cy=\"727.285\" r=\"14.4\" fill=\"#009af9\" fill-rule=\"evenodd\" fill-opacity=\"1\" stroke=\"#000000\" stroke-opacity=\"1\" stroke-width=\"3.2\"/>\n<circle clip-path=\"url(#clip222)\" cx=\"1202.52\" cy=\"735.198\" r=\"14.4\" fill=\"#009af9\" fill-rule=\"evenodd\" fill-opacity=\"1\" stroke=\"#000000\" stroke-opacity=\"1\" stroke-width=\"3.2\"/>\n<circle clip-path=\"url(#clip222)\" cx=\"1212.21\" cy=\"741.527\" r=\"14.4\" fill=\"#009af9\" fill-rule=\"evenodd\" fill-opacity=\"1\" stroke=\"#000000\" stroke-opacity=\"1\" stroke-width=\"3.2\"/>\n<circle clip-path=\"url(#clip222)\" cx=\"1219.96\" cy=\"746.591\" r=\"14.4\" fill=\"#009af9\" fill-rule=\"evenodd\" fill-opacity=\"1\" stroke=\"#000000\" stroke-opacity=\"1\" stroke-width=\"3.2\"/>\n<circle clip-path=\"url(#clip222)\" cx=\"1226.16\" cy=\"750.642\" r=\"14.4\" fill=\"#009af9\" fill-rule=\"evenodd\" fill-opacity=\"1\" stroke=\"#000000\" stroke-opacity=\"1\" stroke-width=\"3.2\"/>\n<circle clip-path=\"url(#clip222)\" cx=\"1231.13\" cy=\"753.883\" r=\"14.4\" fill=\"#009af9\" fill-rule=\"evenodd\" fill-opacity=\"1\" stroke=\"#000000\" stroke-opacity=\"1\" stroke-width=\"3.2\"/>\n<circle clip-path=\"url(#clip222)\" cx=\"1235.1\" cy=\"756.475\" r=\"14.4\" fill=\"#009af9\" fill-rule=\"evenodd\" fill-opacity=\"1\" stroke=\"#000000\" stroke-opacity=\"1\" stroke-width=\"3.2\"/>\n<circle clip-path=\"url(#clip222)\" cx=\"1238.27\" cy=\"758.55\" r=\"14.4\" fill=\"#009af9\" fill-rule=\"evenodd\" fill-opacity=\"1\" stroke=\"#000000\" stroke-opacity=\"1\" stroke-width=\"3.2\"/>\n<circle clip-path=\"url(#clip222)\" cx=\"1240.81\" cy=\"760.209\" r=\"14.4\" fill=\"#009af9\" fill-rule=\"evenodd\" fill-opacity=\"1\" stroke=\"#000000\" stroke-opacity=\"1\" stroke-width=\"3.2\"/>\n<circle clip-path=\"url(#clip222)\" cx=\"1242.84\" cy=\"761.536\" r=\"14.4\" fill=\"#009af9\" fill-rule=\"evenodd\" fill-opacity=\"1\" stroke=\"#000000\" stroke-opacity=\"1\" stroke-width=\"3.2\"/>\n<circle clip-path=\"url(#clip222)\" cx=\"1244.47\" cy=\"762.598\" r=\"14.4\" fill=\"#009af9\" fill-rule=\"evenodd\" fill-opacity=\"1\" stroke=\"#000000\" stroke-opacity=\"1\" stroke-width=\"3.2\"/>\n<circle clip-path=\"url(#clip222)\" cx=\"1245.77\" cy=\"763.448\" r=\"14.4\" fill=\"#009af9\" fill-rule=\"evenodd\" fill-opacity=\"1\" stroke=\"#000000\" stroke-opacity=\"1\" stroke-width=\"3.2\"/>\n<circle clip-path=\"url(#clip222)\" cx=\"1246.81\" cy=\"764.127\" r=\"14.4\" fill=\"#009af9\" fill-rule=\"evenodd\" fill-opacity=\"1\" stroke=\"#000000\" stroke-opacity=\"1\" stroke-width=\"3.2\"/>\n<circle clip-path=\"url(#clip222)\" cx=\"1247.64\" cy=\"764.671\" r=\"14.4\" fill=\"#009af9\" fill-rule=\"evenodd\" fill-opacity=\"1\" stroke=\"#000000\" stroke-opacity=\"1\" stroke-width=\"3.2\"/>\n<circle clip-path=\"url(#clip222)\" cx=\"1248.31\" cy=\"765.106\" r=\"14.4\" fill=\"#009af9\" fill-rule=\"evenodd\" fill-opacity=\"1\" stroke=\"#000000\" stroke-opacity=\"1\" stroke-width=\"3.2\"/>\n<circle clip-path=\"url(#clip222)\" cx=\"1248.84\" cy=\"765.454\" r=\"14.4\" fill=\"#009af9\" fill-rule=\"evenodd\" fill-opacity=\"1\" stroke=\"#000000\" stroke-opacity=\"1\" stroke-width=\"3.2\"/>\n<circle clip-path=\"url(#clip222)\" cx=\"1249.27\" cy=\"765.732\" r=\"14.4\" fill=\"#009af9\" fill-rule=\"evenodd\" fill-opacity=\"1\" stroke=\"#000000\" stroke-opacity=\"1\" stroke-width=\"3.2\"/>\n<circle clip-path=\"url(#clip222)\" cx=\"1249.61\" cy=\"765.955\" r=\"14.4\" fill=\"#009af9\" fill-rule=\"evenodd\" fill-opacity=\"1\" stroke=\"#000000\" stroke-opacity=\"1\" stroke-width=\"3.2\"/>\n<circle clip-path=\"url(#clip222)\" cx=\"1249.88\" cy=\"766.133\" r=\"14.4\" fill=\"#009af9\" fill-rule=\"evenodd\" fill-opacity=\"1\" stroke=\"#000000\" stroke-opacity=\"1\" stroke-width=\"3.2\"/>\n<circle clip-path=\"url(#clip222)\" cx=\"1250.1\" cy=\"766.276\" r=\"14.4\" fill=\"#009af9\" fill-rule=\"evenodd\" fill-opacity=\"1\" stroke=\"#000000\" stroke-opacity=\"1\" stroke-width=\"3.2\"/>\n<circle clip-path=\"url(#clip222)\" cx=\"1250.28\" cy=\"766.39\" r=\"14.4\" fill=\"#009af9\" fill-rule=\"evenodd\" fill-opacity=\"1\" stroke=\"#000000\" stroke-opacity=\"1\" stroke-width=\"3.2\"/>\n<circle clip-path=\"url(#clip222)\" cx=\"1250.41\" cy=\"766.481\" r=\"14.4\" fill=\"#009af9\" fill-rule=\"evenodd\" fill-opacity=\"1\" stroke=\"#000000\" stroke-opacity=\"1\" stroke-width=\"3.2\"/>\n<circle clip-path=\"url(#clip222)\" cx=\"1250.53\" cy=\"766.554\" r=\"14.4\" fill=\"#009af9\" fill-rule=\"evenodd\" fill-opacity=\"1\" stroke=\"#000000\" stroke-opacity=\"1\" stroke-width=\"3.2\"/>\n<circle clip-path=\"url(#clip222)\" cx=\"1250.62\" cy=\"766.612\" r=\"14.4\" fill=\"#009af9\" fill-rule=\"evenodd\" fill-opacity=\"1\" stroke=\"#000000\" stroke-opacity=\"1\" stroke-width=\"3.2\"/>\n<circle clip-path=\"url(#clip222)\" cx=\"1250.69\" cy=\"766.659\" r=\"14.4\" fill=\"#009af9\" fill-rule=\"evenodd\" fill-opacity=\"1\" stroke=\"#000000\" stroke-opacity=\"1\" stroke-width=\"3.2\"/>\n<circle clip-path=\"url(#clip222)\" cx=\"1250.74\" cy=\"766.697\" r=\"14.4\" fill=\"#009af9\" fill-rule=\"evenodd\" fill-opacity=\"1\" stroke=\"#000000\" stroke-opacity=\"1\" stroke-width=\"3.2\"/>\n<circle clip-path=\"url(#clip222)\" cx=\"1250.79\" cy=\"766.726\" r=\"14.4\" fill=\"#009af9\" fill-rule=\"evenodd\" fill-opacity=\"1\" stroke=\"#000000\" stroke-opacity=\"1\" stroke-width=\"3.2\"/>\n<circle clip-path=\"url(#clip222)\" cx=\"1250.83\" cy=\"766.75\" r=\"14.4\" fill=\"#009af9\" fill-rule=\"evenodd\" fill-opacity=\"1\" stroke=\"#000000\" stroke-opacity=\"1\" stroke-width=\"3.2\"/>\n<circle clip-path=\"url(#clip222)\" cx=\"1250.86\" cy=\"766.769\" r=\"14.4\" fill=\"#009af9\" fill-rule=\"evenodd\" fill-opacity=\"1\" stroke=\"#000000\" stroke-opacity=\"1\" stroke-width=\"3.2\"/>\n<circle clip-path=\"url(#clip222)\" cx=\"1250.88\" cy=\"766.785\" r=\"14.4\" fill=\"#009af9\" fill-rule=\"evenodd\" fill-opacity=\"1\" stroke=\"#000000\" stroke-opacity=\"1\" stroke-width=\"3.2\"/>\n<circle clip-path=\"url(#clip222)\" cx=\"1250.9\" cy=\"766.797\" r=\"14.4\" fill=\"#009af9\" fill-rule=\"evenodd\" fill-opacity=\"1\" stroke=\"#000000\" stroke-opacity=\"1\" stroke-width=\"3.2\"/>\n<circle clip-path=\"url(#clip222)\" cx=\"1250.91\" cy=\"766.807\" r=\"14.4\" fill=\"#009af9\" fill-rule=\"evenodd\" fill-opacity=\"1\" stroke=\"#000000\" stroke-opacity=\"1\" stroke-width=\"3.2\"/>\n<circle clip-path=\"url(#clip222)\" cx=\"1250.93\" cy=\"766.815\" r=\"14.4\" fill=\"#009af9\" fill-rule=\"evenodd\" fill-opacity=\"1\" stroke=\"#000000\" stroke-opacity=\"1\" stroke-width=\"3.2\"/>\n<circle clip-path=\"url(#clip222)\" cx=\"1250.93\" cy=\"766.821\" r=\"14.4\" fill=\"#009af9\" fill-rule=\"evenodd\" fill-opacity=\"1\" stroke=\"#000000\" stroke-opacity=\"1\" stroke-width=\"3.2\"/>\n<circle clip-path=\"url(#clip222)\" cx=\"1250.94\" cy=\"766.826\" r=\"14.4\" fill=\"#009af9\" fill-rule=\"evenodd\" fill-opacity=\"1\" stroke=\"#000000\" stroke-opacity=\"1\" stroke-width=\"3.2\"/>\n<circle clip-path=\"url(#clip222)\" cx=\"1250.95\" cy=\"766.83\" r=\"14.4\" fill=\"#009af9\" fill-rule=\"evenodd\" fill-opacity=\"1\" stroke=\"#000000\" stroke-opacity=\"1\" stroke-width=\"3.2\"/>\n<circle clip-path=\"url(#clip222)\" cx=\"1250.95\" cy=\"766.833\" r=\"14.4\" fill=\"#009af9\" fill-rule=\"evenodd\" fill-opacity=\"1\" stroke=\"#000000\" stroke-opacity=\"1\" stroke-width=\"3.2\"/>\n<circle clip-path=\"url(#clip222)\" cx=\"1250.96\" cy=\"766.836\" r=\"14.4\" fill=\"#009af9\" fill-rule=\"evenodd\" fill-opacity=\"1\" stroke=\"#000000\" stroke-opacity=\"1\" stroke-width=\"3.2\"/>\n<circle clip-path=\"url(#clip222)\" cx=\"1250.96\" cy=\"766.838\" r=\"14.4\" fill=\"#009af9\" fill-rule=\"evenodd\" fill-opacity=\"1\" stroke=\"#000000\" stroke-opacity=\"1\" stroke-width=\"3.2\"/>\n<circle clip-path=\"url(#clip222)\" cx=\"1250.96\" cy=\"766.839\" r=\"14.4\" fill=\"#009af9\" fill-rule=\"evenodd\" fill-opacity=\"1\" stroke=\"#000000\" stroke-opacity=\"1\" stroke-width=\"3.2\"/>\n<circle clip-path=\"url(#clip222)\" cx=\"1250.97\" cy=\"766.841\" r=\"14.4\" fill=\"#009af9\" fill-rule=\"evenodd\" fill-opacity=\"1\" stroke=\"#000000\" stroke-opacity=\"1\" stroke-width=\"3.2\"/>\n<circle clip-path=\"url(#clip222)\" cx=\"1250.97\" cy=\"766.842\" r=\"14.4\" fill=\"#009af9\" fill-rule=\"evenodd\" fill-opacity=\"1\" stroke=\"#000000\" stroke-opacity=\"1\" stroke-width=\"3.2\"/>\n<circle clip-path=\"url(#clip222)\" cx=\"1250.97\" cy=\"766.843\" r=\"14.4\" fill=\"#009af9\" fill-rule=\"evenodd\" fill-opacity=\"1\" stroke=\"#000000\" stroke-opacity=\"1\" stroke-width=\"3.2\"/>\n<circle clip-path=\"url(#clip222)\" cx=\"1250.97\" cy=\"766.843\" r=\"14.4\" fill=\"#009af9\" fill-rule=\"evenodd\" fill-opacity=\"1\" stroke=\"#000000\" stroke-opacity=\"1\" stroke-width=\"3.2\"/>\n<circle clip-path=\"url(#clip222)\" cx=\"1250.97\" cy=\"766.844\" r=\"14.4\" fill=\"#009af9\" fill-rule=\"evenodd\" fill-opacity=\"1\" stroke=\"#000000\" stroke-opacity=\"1\" stroke-width=\"3.2\"/>\n<circle clip-path=\"url(#clip222)\" cx=\"1250.97\" cy=\"766.844\" r=\"14.4\" fill=\"#009af9\" fill-rule=\"evenodd\" fill-opacity=\"1\" stroke=\"#000000\" stroke-opacity=\"1\" stroke-width=\"3.2\"/>\n<circle clip-path=\"url(#clip222)\" cx=\"1250.97\" cy=\"766.845\" r=\"14.4\" fill=\"#009af9\" fill-rule=\"evenodd\" fill-opacity=\"1\" stroke=\"#000000\" stroke-opacity=\"1\" stroke-width=\"3.2\"/>\n<circle clip-path=\"url(#clip222)\" cx=\"1250.97\" cy=\"766.845\" r=\"14.4\" fill=\"#009af9\" fill-rule=\"evenodd\" fill-opacity=\"1\" stroke=\"#000000\" stroke-opacity=\"1\" stroke-width=\"3.2\"/>\n<circle clip-path=\"url(#clip222)\" cx=\"1250.97\" cy=\"766.845\" r=\"14.4\" fill=\"#009af9\" fill-rule=\"evenodd\" fill-opacity=\"1\" stroke=\"#000000\" stroke-opacity=\"1\" stroke-width=\"3.2\"/>\n<circle clip-path=\"url(#clip222)\" cx=\"1250.97\" cy=\"766.845\" r=\"14.4\" fill=\"#009af9\" fill-rule=\"evenodd\" fill-opacity=\"1\" stroke=\"#000000\" stroke-opacity=\"1\" stroke-width=\"3.2\"/>\n<circle clip-path=\"url(#clip222)\" cx=\"1250.97\" cy=\"766.845\" r=\"14.4\" fill=\"#009af9\" fill-rule=\"evenodd\" fill-opacity=\"1\" stroke=\"#000000\" stroke-opacity=\"1\" stroke-width=\"3.2\"/>\n<circle clip-path=\"url(#clip222)\" cx=\"1250.97\" cy=\"766.846\" r=\"14.4\" fill=\"#009af9\" fill-rule=\"evenodd\" fill-opacity=\"1\" stroke=\"#000000\" stroke-opacity=\"1\" stroke-width=\"3.2\"/>\n<circle clip-path=\"url(#clip222)\" cx=\"1250.97\" cy=\"766.846\" r=\"14.4\" fill=\"#009af9\" fill-rule=\"evenodd\" fill-opacity=\"1\" stroke=\"#000000\" stroke-opacity=\"1\" stroke-width=\"3.2\"/>\n<circle clip-path=\"url(#clip222)\" cx=\"1250.97\" cy=\"766.846\" r=\"14.4\" fill=\"#009af9\" fill-rule=\"evenodd\" fill-opacity=\"1\" stroke=\"#000000\" stroke-opacity=\"1\" stroke-width=\"3.2\"/>\n<circle clip-path=\"url(#clip222)\" cx=\"1250.97\" cy=\"766.846\" r=\"14.4\" fill=\"#009af9\" fill-rule=\"evenodd\" fill-opacity=\"1\" stroke=\"#000000\" stroke-opacity=\"1\" stroke-width=\"3.2\"/>\n<circle clip-path=\"url(#clip222)\" cx=\"1250.97\" cy=\"766.846\" r=\"14.4\" fill=\"#009af9\" fill-rule=\"evenodd\" fill-opacity=\"1\" stroke=\"#000000\" stroke-opacity=\"1\" stroke-width=\"3.2\"/>\n<circle clip-path=\"url(#clip222)\" cx=\"1250.97\" cy=\"766.846\" r=\"14.4\" fill=\"#009af9\" fill-rule=\"evenodd\" fill-opacity=\"1\" stroke=\"#000000\" stroke-opacity=\"1\" stroke-width=\"3.2\"/>\n<circle clip-path=\"url(#clip222)\" cx=\"1250.97\" cy=\"766.846\" r=\"14.4\" fill=\"#009af9\" fill-rule=\"evenodd\" fill-opacity=\"1\" stroke=\"#000000\" stroke-opacity=\"1\" stroke-width=\"3.2\"/>\n<circle clip-path=\"url(#clip222)\" cx=\"1250.97\" cy=\"766.846\" r=\"14.4\" fill=\"#009af9\" fill-rule=\"evenodd\" fill-opacity=\"1\" stroke=\"#000000\" stroke-opacity=\"1\" stroke-width=\"3.2\"/>\n<circle clip-path=\"url(#clip222)\" cx=\"1250.97\" cy=\"766.846\" r=\"14.4\" fill=\"#009af9\" fill-rule=\"evenodd\" fill-opacity=\"1\" stroke=\"#000000\" stroke-opacity=\"1\" stroke-width=\"3.2\"/>\n<circle clip-path=\"url(#clip222)\" cx=\"1250.97\" cy=\"766.846\" r=\"14.4\" fill=\"#009af9\" fill-rule=\"evenodd\" fill-opacity=\"1\" stroke=\"#000000\" stroke-opacity=\"1\" stroke-width=\"3.2\"/>\n<circle clip-path=\"url(#clip222)\" cx=\"1250.97\" cy=\"766.846\" r=\"14.4\" fill=\"#009af9\" fill-rule=\"evenodd\" fill-opacity=\"1\" stroke=\"#000000\" stroke-opacity=\"1\" stroke-width=\"3.2\"/>\n<circle clip-path=\"url(#clip222)\" cx=\"1250.97\" cy=\"766.846\" r=\"14.4\" fill=\"#009af9\" fill-rule=\"evenodd\" fill-opacity=\"1\" stroke=\"#000000\" stroke-opacity=\"1\" stroke-width=\"3.2\"/>\n<circle clip-path=\"url(#clip222)\" cx=\"1250.97\" cy=\"766.846\" r=\"14.4\" fill=\"#009af9\" fill-rule=\"evenodd\" fill-opacity=\"1\" stroke=\"#000000\" stroke-opacity=\"1\" stroke-width=\"3.2\"/>\n<circle clip-path=\"url(#clip222)\" cx=\"1250.97\" cy=\"766.846\" r=\"14.4\" fill=\"#009af9\" fill-rule=\"evenodd\" fill-opacity=\"1\" stroke=\"#000000\" stroke-opacity=\"1\" stroke-width=\"3.2\"/>\n<circle clip-path=\"url(#clip222)\" cx=\"1250.97\" cy=\"766.846\" r=\"14.4\" fill=\"#009af9\" fill-rule=\"evenodd\" fill-opacity=\"1\" stroke=\"#000000\" stroke-opacity=\"1\" stroke-width=\"3.2\"/>\n<circle clip-path=\"url(#clip222)\" cx=\"1250.97\" cy=\"766.846\" r=\"14.4\" fill=\"#009af9\" fill-rule=\"evenodd\" fill-opacity=\"1\" stroke=\"#000000\" stroke-opacity=\"1\" stroke-width=\"3.2\"/>\n<circle clip-path=\"url(#clip222)\" cx=\"1250.97\" cy=\"766.846\" r=\"14.4\" fill=\"#009af9\" fill-rule=\"evenodd\" fill-opacity=\"1\" stroke=\"#000000\" stroke-opacity=\"1\" stroke-width=\"3.2\"/>\n<circle clip-path=\"url(#clip222)\" cx=\"1250.97\" cy=\"766.846\" r=\"14.4\" fill=\"#009af9\" fill-rule=\"evenodd\" fill-opacity=\"1\" stroke=\"#000000\" stroke-opacity=\"1\" stroke-width=\"3.2\"/>\n<circle clip-path=\"url(#clip222)\" cx=\"1250.97\" cy=\"766.846\" r=\"14.4\" fill=\"#009af9\" fill-rule=\"evenodd\" fill-opacity=\"1\" stroke=\"#000000\" stroke-opacity=\"1\" stroke-width=\"3.2\"/>\n<circle clip-path=\"url(#clip222)\" cx=\"1250.97\" cy=\"766.846\" r=\"14.4\" fill=\"#009af9\" fill-rule=\"evenodd\" fill-opacity=\"1\" stroke=\"#000000\" stroke-opacity=\"1\" stroke-width=\"3.2\"/>\n<circle clip-path=\"url(#clip222)\" cx=\"1250.97\" cy=\"766.846\" r=\"14.4\" fill=\"#009af9\" fill-rule=\"evenodd\" fill-opacity=\"1\" stroke=\"#000000\" stroke-opacity=\"1\" stroke-width=\"3.2\"/>\n<circle clip-path=\"url(#clip222)\" cx=\"1250.97\" cy=\"766.846\" r=\"14.4\" fill=\"#009af9\" fill-rule=\"evenodd\" fill-opacity=\"1\" stroke=\"#000000\" stroke-opacity=\"1\" stroke-width=\"3.2\"/>\n<circle clip-path=\"url(#clip222)\" cx=\"1250.97\" cy=\"766.846\" r=\"14.4\" fill=\"#009af9\" fill-rule=\"evenodd\" fill-opacity=\"1\" stroke=\"#000000\" stroke-opacity=\"1\" stroke-width=\"3.2\"/>\n<circle clip-path=\"url(#clip222)\" cx=\"1250.97\" cy=\"766.846\" r=\"14.4\" fill=\"#009af9\" fill-rule=\"evenodd\" fill-opacity=\"1\" stroke=\"#000000\" stroke-opacity=\"1\" stroke-width=\"3.2\"/>\n<circle clip-path=\"url(#clip222)\" cx=\"1250.97\" cy=\"766.846\" r=\"14.4\" fill=\"#009af9\" fill-rule=\"evenodd\" fill-opacity=\"1\" stroke=\"#000000\" stroke-opacity=\"1\" stroke-width=\"3.2\"/>\n<circle clip-path=\"url(#clip222)\" cx=\"1250.97\" cy=\"766.846\" r=\"14.4\" fill=\"#009af9\" fill-rule=\"evenodd\" fill-opacity=\"1\" stroke=\"#000000\" stroke-opacity=\"1\" stroke-width=\"3.2\"/>\n<circle clip-path=\"url(#clip222)\" cx=\"1250.97\" cy=\"766.846\" r=\"14.4\" fill=\"#009af9\" fill-rule=\"evenodd\" fill-opacity=\"1\" stroke=\"#000000\" stroke-opacity=\"1\" stroke-width=\"3.2\"/>\n<circle clip-path=\"url(#clip222)\" cx=\"1250.97\" cy=\"766.846\" r=\"14.4\" fill=\"#009af9\" fill-rule=\"evenodd\" fill-opacity=\"1\" stroke=\"#000000\" stroke-opacity=\"1\" stroke-width=\"3.2\"/>\n<circle clip-path=\"url(#clip222)\" cx=\"1250.97\" cy=\"766.846\" r=\"14.4\" fill=\"#009af9\" fill-rule=\"evenodd\" fill-opacity=\"1\" stroke=\"#000000\" stroke-opacity=\"1\" stroke-width=\"3.2\"/>\n<circle clip-path=\"url(#clip222)\" cx=\"1250.97\" cy=\"766.846\" r=\"14.4\" fill=\"#009af9\" fill-rule=\"evenodd\" fill-opacity=\"1\" stroke=\"#000000\" stroke-opacity=\"1\" stroke-width=\"3.2\"/>\n<circle clip-path=\"url(#clip222)\" cx=\"1250.97\" cy=\"766.846\" r=\"14.4\" fill=\"#009af9\" fill-rule=\"evenodd\" fill-opacity=\"1\" stroke=\"#000000\" stroke-opacity=\"1\" stroke-width=\"3.2\"/>\n<circle clip-path=\"url(#clip222)\" cx=\"1250.97\" cy=\"766.846\" r=\"14.4\" fill=\"#009af9\" fill-rule=\"evenodd\" fill-opacity=\"1\" stroke=\"#000000\" stroke-opacity=\"1\" stroke-width=\"3.2\"/>\n<circle clip-path=\"url(#clip222)\" cx=\"1250.97\" cy=\"766.846\" r=\"14.4\" fill=\"#009af9\" fill-rule=\"evenodd\" fill-opacity=\"1\" stroke=\"#000000\" stroke-opacity=\"1\" stroke-width=\"3.2\"/>\n<circle clip-path=\"url(#clip222)\" cx=\"1250.97\" cy=\"766.846\" r=\"14.4\" fill=\"#009af9\" fill-rule=\"evenodd\" fill-opacity=\"1\" stroke=\"#000000\" stroke-opacity=\"1\" stroke-width=\"3.2\"/>\n<circle clip-path=\"url(#clip222)\" cx=\"1250.97\" cy=\"766.846\" r=\"14.4\" fill=\"#009af9\" fill-rule=\"evenodd\" fill-opacity=\"1\" stroke=\"#000000\" stroke-opacity=\"1\" stroke-width=\"3.2\"/>\n<circle clip-path=\"url(#clip222)\" cx=\"1250.97\" cy=\"766.846\" r=\"14.4\" fill=\"#009af9\" fill-rule=\"evenodd\" fill-opacity=\"1\" stroke=\"#000000\" stroke-opacity=\"1\" stroke-width=\"3.2\"/>\n<circle clip-path=\"url(#clip222)\" cx=\"1250.97\" cy=\"766.846\" r=\"14.4\" fill=\"#009af9\" fill-rule=\"evenodd\" fill-opacity=\"1\" stroke=\"#000000\" stroke-opacity=\"1\" stroke-width=\"3.2\"/>\n<path clip-path=\"url(#clip220)\" d=\"\nM1982.03 198.898 L2279.3 198.898 L2279.3 95.2176 L1982.03 95.2176  Z\n  \" fill=\"#ffffff\" fill-rule=\"evenodd\" fill-opacity=\"1\"/>\n<polyline clip-path=\"url(#clip220)\" style=\"stroke:#000000; stroke-linecap:butt; stroke-linejoin:round; stroke-width:4; stroke-opacity:1; fill:none\" points=\"\n  1982.03,198.898 2279.3,198.898 2279.3,95.2176 1982.03,95.2176 1982.03,198.898 \n  \"/>\n<circle clip-path=\"url(#clip220)\" cx=\"2079.97\" cy=\"147.058\" r=\"23.04\" fill=\"#009af9\" fill-rule=\"evenodd\" fill-opacity=\"1\" stroke=\"#000000\" stroke-opacity=\"1\" stroke-width=\"5.12\"/>\n<path clip-path=\"url(#clip220)\" d=\"M2191.75 166.745 Q2189.94 171.375 2188.23 172.787 Q2186.52 174.199 2183.65 174.199 L2180.24 174.199 L2180.24 170.634 L2182.74 170.634 Q2184.5 170.634 2185.47 169.8 Q2186.45 168.967 2187.63 165.865 L2188.39 163.921 L2177.91 138.412 L2182.42 138.412 L2190.52 158.689 L2198.62 138.412 L2203.14 138.412 L2191.75 166.745 Z\" fill=\"#000000\" fill-rule=\"evenodd\" fill-opacity=\"1\" /><path clip-path=\"url(#clip220)\" d=\"M2210.43 160.402 L2218.07 160.402 L2218.07 134.037 L2209.76 135.703 L2209.76 131.444 L2218.02 129.778 L2222.7 129.778 L2222.7 160.402 L2230.34 160.402 L2230.34 164.338 L2210.43 164.338 L2210.43 160.402 Z\" fill=\"#000000\" fill-rule=\"evenodd\" fill-opacity=\"1\" /></svg>\n"
     },
     "execution_count": 187,
     "metadata": {},
     "output_type": "execute_result"
    }
   ],
   "source": [
    "scatter(\n",
    "    res_reshape[:,1], res_reshape[:, 2],\n",
    "    xlims=(-3,3),\n",
    "    ylims=(-4,4)\n",
    "    )"
   ]
  },
  {
   "cell_type": "markdown",
   "metadata": {},
   "source": [
    "## ニューラルネットワークに対する勾配"
   ]
  },
  {
   "cell_type": "code",
   "execution_count": 200,
   "metadata": {},
   "outputs": [
    {
     "data": {
      "text/plain": [
       "soft_max_function (generic function with 1 method)"
      ]
     },
     "execution_count": 200,
     "metadata": {},
     "output_type": "execute_result"
    }
   ],
   "source": [
    "function soft_max_function(x::Matrix)\n",
    "    c=maximum(x)\n",
    "    return exp.(x.-c)/sum(exp.(x.-c))\n",
    "end"
   ]
  },
  {
   "cell_type": "code",
   "execution_count": 209,
   "metadata": {},
   "outputs": [
    {
     "data": {
      "text/plain": [
       "cross_entropy_error (generic function with 1 method)"
      ]
     },
     "execution_count": 209,
     "metadata": {},
     "output_type": "execute_result"
    }
   ],
   "source": [
    "function cross_entropy_error(y::Matrix, t::Matrix)\n",
    "    delta= 1e-7\n",
    "    return -sum(t.*log.(y.+delta))\n",
    "end"
   ]
  },
  {
   "cell_type": "code",
   "execution_count": 201,
   "metadata": {},
   "outputs": [
    {
     "data": {
      "text/plain": [
       "2×3 Matrix{Float64}:\n",
       " 0.473552  0.997739   0.846681\n",
       " 0.855574  0.0356366  0.694221"
      ]
     },
     "execution_count": 201,
     "metadata": {},
     "output_type": "execute_result"
    }
   ],
   "source": [
    "W=[0.47355232 0.9977393 0.84668094\n",
    "0.85557411 0.03563661 0.69422093]"
   ]
  },
  {
   "cell_type": "code",
   "execution_count": 202,
   "metadata": {},
   "outputs": [
    {
     "data": {
      "text/plain": [
       "1×2 Matrix{Float64}:\n",
       " 0.6  0.9"
      ]
     },
     "execution_count": 202,
     "metadata": {},
     "output_type": "execute_result"
    }
   ],
   "source": [
    "x=[0.6 0.9]"
   ]
  },
  {
   "cell_type": "code",
   "execution_count": 205,
   "metadata": {},
   "outputs": [
    {
     "data": {
      "text/plain": [
       "1×3 Matrix{Float64}:\n",
       " 1.05415  0.630717  1.13281"
      ]
     },
     "execution_count": 205,
     "metadata": {},
     "output_type": "execute_result"
    }
   ],
   "source": [
    "predict=x*W"
   ]
  },
  {
   "cell_type": "code",
   "execution_count": 206,
   "metadata": {},
   "outputs": [
    {
     "data": {
      "text/plain": [
       "2"
      ]
     },
     "execution_count": 206,
     "metadata": {},
     "output_type": "execute_result"
    }
   ],
   "source": [
    "argmax(vec(predict))-1"
   ]
  },
  {
   "cell_type": "code",
   "execution_count": 211,
   "metadata": {},
   "outputs": [
    {
     "data": {
      "text/plain": [
       "0.9280682857864075"
      ]
     },
     "execution_count": 211,
     "metadata": {},
     "output_type": "execute_result"
    }
   ],
   "source": [
    "z=predict;\n",
    "y=soft_max_function(z);\n",
    "t=[0 0 1]\n",
    "loss=cross_entropy_error(y,t)"
   ]
  },
  {
   "cell_type": "code",
   "execution_count": 218,
   "metadata": {},
   "outputs": [
    {
     "data": {
      "text/plain": [
       "init_weight (generic function with 1 method)"
      ]
     },
     "execution_count": 218,
     "metadata": {},
     "output_type": "execute_result"
    }
   ],
   "source": [
    "function init_weight()\n",
    "    return randn(Float64, 2,3)\n",
    "end"
   ]
  },
  {
   "cell_type": "code",
   "execution_count": 221,
   "metadata": {},
   "outputs": [
    {
     "data": {
      "text/plain": [
       "prediction (generic function with 1 method)"
      ]
     },
     "execution_count": 221,
     "metadata": {},
     "output_type": "execute_result"
    }
   ],
   "source": [
    "function prediction(x)\n",
    "    return x*init_weight()\n",
    "end"
   ]
  },
  {
   "cell_type": "code",
   "execution_count": 231,
   "metadata": {},
   "outputs": [
    {
     "data": {
      "text/plain": [
       "loss_func (generic function with 1 method)"
      ]
     },
     "execution_count": 231,
     "metadata": {},
     "output_type": "execute_result"
    }
   ],
   "source": [
    "function loss_func(x, t)\n",
    "    z=prediction(x)\n",
    "    y=soft_max_function(z)\n",
    "    loss=cross_entropy_error(y, t)\n",
    "    return loss\n",
    "end"
   ]
  },
  {
   "cell_type": "code",
   "execution_count": 237,
   "metadata": {},
   "outputs": [
    {
     "data": {
      "text/plain": [
       "2×3 Matrix{Float64}:\n",
       " -1.19962  -0.224483  -0.0904918\n",
       "  1.43805  -0.524585   0.546358"
      ]
     },
     "execution_count": 237,
     "metadata": {},
     "output_type": "execute_result"
    }
   ],
   "source": [
    "W=init_weight()"
   ]
  },
  {
   "cell_type": "code",
   "execution_count": 238,
   "metadata": {},
   "outputs": [
    {
     "data": {
      "text/plain": [
       "1×3 Matrix{Float64}:\n",
       " 1.21587  -1.98923  -0.892827"
      ]
     },
     "execution_count": 238,
     "metadata": {},
     "output_type": "execute_result"
    }
   ],
   "source": [
    "x=[0.6 0.9]\n",
    "prediction(x)"
   ]
  },
  {
   "cell_type": "code",
   "execution_count": 239,
   "metadata": {},
   "outputs": [
    {
     "data": {
      "text/plain": [
       "0.3135478687666907"
      ]
     },
     "execution_count": 239,
     "metadata": {},
     "output_type": "execute_result"
    }
   ],
   "source": [
    "t=[0 0 1]\n",
    "loss_func(x, t)"
   ]
  },
  {
   "cell_type": "code",
   "execution_count": 240,
   "metadata": {},
   "outputs": [
    {
     "data": {
      "text/plain": [
       "f (generic function with 2 methods)"
      ]
     },
     "execution_count": 240,
     "metadata": {},
     "output_type": "execute_result"
    }
   ],
   "source": [
    "f(W)=loss_func(x,t)"
   ]
  },
  {
   "cell_type": "code",
   "execution_count": 241,
   "metadata": {},
   "outputs": [
    {
     "data": {
      "text/plain": [
       "2×3 Matrix{Float64}:\n",
       " 0.0  0.0  0.0\n",
       " 0.0  0.0  0.0"
      ]
     },
     "execution_count": 241,
     "metadata": {},
     "output_type": "execute_result"
    }
   ],
   "source": [
    "ForwardDiff.gradient(f, W)"
   ]
  },
  {
   "cell_type": "code",
   "execution_count": 279,
   "metadata": {},
   "outputs": [],
   "source": [
    "mutable struct Dense\n",
    "    W::Matrix{Float64}\n",
    "    set_weight::Function\n",
    "    forward::Function\n",
    "    function Dense(in_dim::Int, out_dim::Int)\n",
    "        self = new()\n",
    "        self.W = randn(out_dim, in_dim)\n",
    "        self.set_weight = (W -> (self.W = W))\n",
    "        self.forward = (x -> self.W * x)\n",
    "        return self\n",
    "    end\n",
    "end"
   ]
  },
  {
   "cell_type": "code",
   "execution_count": 280,
   "metadata": {},
   "outputs": [
    {
     "data": {
      "text/plain": [
       "3-element Vector{Float64}:\n",
       " -1.690525132002757\n",
       "  3.3822566648057086\n",
       " -0.4382789534683381"
      ]
     },
     "execution_count": 280,
     "metadata": {},
     "output_type": "execute_result"
    }
   ],
   "source": [
    "dense=Dense(5, 3)\n",
    "x=randn(5)\n",
    "y=dense.forward(x)"
   ]
  },
  {
   "cell_type": "code",
   "execution_count": 1,
   "metadata": {},
   "outputs": [],
   "source": [
    "mutable struct Dense\n",
    "    W::Matrix\n",
    "    Dense(in_dim, out_dim)=new(randn(out_dim, in_dim))\n",
    "end"
   ]
  },
  {
   "cell_type": "code",
   "execution_count": null,
   "metadata": {},
   "outputs": [],
   "source": [
    "function set_weight!(m::Dense, W)\n",
    "    m.W=W\n",
    "end"
   ]
  },
  {
   "cell_type": "code",
   "execution_count": null,
   "metadata": {},
   "outputs": [],
   "source": [
    "mutable struct simpleNet\n",
    "    W::Matrix\n",
    "end"
   ]
  }
 ],
 "metadata": {
  "kernelspec": {
   "display_name": "Julia 1.7.2",
   "language": "julia",
   "name": "julia-1.7"
  },
  "language_info": {
   "file_extension": ".jl",
   "mimetype": "application/julia",
   "name": "julia",
   "version": "1.7.2"
  },
  "orig_nbformat": 4
 },
 "nbformat": 4,
 "nbformat_minor": 2
}
